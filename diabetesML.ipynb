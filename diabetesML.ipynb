{
  "cells": [
    {
      "cell_type": "code",
      "execution_count": null,
      "metadata": {
        "id": "W5RhnQdSUZ4X"
      },
      "outputs": [],
      "source": [
        "# This Python 3 environment comes with many helpful analytics libraries installed\n",
        "# It is defined by the kaggle/python Docker image: https://github.com/kaggle/docker-python\n",
        "# For example, here's several helpful packages to load\n",
        "\n",
        "import numpy as np # linear algebra\n",
        "import pandas as pd # data processing, CSV file I/O (e.g. pd.read_csv)\n",
        "\n",
        "import matplotlib.pyplot as plt    # visualization library (görselleştirme kütüphanesi)\n",
        "import seaborn as sns         # visualization library (görselleştirme kütüphanesi)\n",
        "import missingno as msno      # visualization library (görselleştirme kütüphanesi)\n",
        " #Hiperparametre için çağırıldı\n",
        "\n",
        "from sklearn.metrics import plot_roc_curve\n",
        "from sklearn.neighbors import KNeighborsClassifier as knn\n",
        "from sklearn import datasets, linear_model, metrics\n",
        "from sklearn.metrics import accuracy_score, confusion_matrix, classification_report\n",
        "from sklearn.model_selection import train_test_split, GridSearchCV, StratifiedKFold\n"
      ]
    },
    {
      "cell_type": "markdown",
      "metadata": {
        "id": "GLtttZSHSvcn"
      },
      "source": [
        "#**VERİ GÖRSELLEŞTİRME**"
      ]
    },
    {
      "cell_type": "code",
      "execution_count": null,
      "metadata": {
        "colab": {
          "base_uri": "https://localhost:8080/"
        },
        "id": "iVb2Ev9JUZ4Z",
        "outputId": "1a37ecce-68b7-45f6-fe76-e14ba882ea93"
      },
      "outputs": [
        {
          "output_type": "stream",
          "name": "stdout",
          "text": [ 
            "     Pregnancies  Glucose  ...  Age  Outcome\n",
            "0              6      148  ...   50        1\n",
            "1              1       85  ...   31        0\n",
            "2              8      183  ...   32        1\n",
            "3              1       89  ...   21        0\n",
            "4              0      137  ...   33        1\n",
            "..           ...      ...  ...  ...      ...\n",
            "763           10      101  ...   63        0\n",
            "764            2      122  ...   27        0\n",
            "765            5      121  ...   30        0\n",
            "766            1      126  ...   47        1\n",
            "767            1       93  ...   23        0\n",
            "\n",
            "[768 rows x 9 columns]\n"
          ]
        }
      ],
      "source": [
        "dataFrame = pd.read_csv(\"https://raw.githubusercontent.com/BoranOner/Predicting-Diabetes/main/diabetes.csv\" ,encoding = 'unicode_escape')\n",
        "print(dataFrame)"
      ]
    },
    {
      "cell_type": "code",
      "execution_count": null,
      "metadata": {
        "id": "NxDlZbALUZ4a"
      },
      "outputs": [],
      "source": [
        "df1 = dataFrame.copy()\n",
        "df2 = dataFrame.copy()\n",
        "df3 = dataFrame.copy()"
      ]
    },
    {
      "cell_type": "code",
      "execution_count": null,
      "metadata": {
        "id": "B494WG1hUZ4b"
      },
      "outputs": [],
      "source": [
        "df1 = pd.DataFrame(df1)"
      ]
    },
    {
      "cell_type": "code",
      "execution_count": null,
      "metadata": {
        "colab": {
          "base_uri": "https://localhost:8080/"
        },
        "id": "O8DwrGuqUZ4b",
        "outputId": "edb69775-0454-4c0d-ffa0-6a89281b0d9f"
      },
      "outputs": [
        {
          "output_type": "execute_result",
          "data": {
            "text/html": [
              "\n",
              "  <div id=\"df-11965053-e746-4bfb-adb9-6c1055d5832c\">\n",
              "    <div class=\"colab-df-container\">\n",
              "      <div>\n",
              "<style scoped>\n",
              "    .dataframe tbody tr th:only-of-type {\n",
              "        vertical-align: middle;\n",
              "    }\n",
              "\n",
              "    .dataframe tbody tr th {\n",
              "        vertical-align: top;\n",
              "    }\n",
              "\n",
              "    .dataframe thead th {\n",
              "        text-align: right;\n",
              "    }\n",
              "</style>\n",
              "<table border=\"1\" class=\"dataframe\">\n",
              "  <thead>\n",
              "    <tr style=\"text-align: right;\">\n",
              "      <th></th>\n",
              "      <th>Pregnancies</th>\n",
              "      <th>Glucose</th>\n",
              "      <th>BloodPressure</th>\n",
              "      <th>SkinThickness</th>\n",
              "      <th>Insulin</th>\n",
              "      <th>BMI</th>\n",
              "      <th>DiabetesPedigreeFunction</th>\n",
              "      <th>Age</th>\n",
              "      <th>Outcome</th>\n",
              "    </tr>\n",
              "  </thead>\n",
              "  <tbody>\n",
              "    <tr>\n",
              "      <th>0</th>\n",
              "      <td>6</td>\n",
              "      <td>148</td>\n",
              "      <td>72</td>\n",
              "      <td>35</td>\n",
              "      <td>0</td>\n",
              "      <td>33.6</td>\n",
              "      <td>0.627</td>\n",
              "      <td>50</td>\n",
              "      <td>1</td>\n",
              "    </tr>\n",
              "    <tr>\n",
              "      <th>1</th>\n",
              "      <td>1</td>\n",
              "      <td>85</td>\n",
              "      <td>66</td>\n",
              "      <td>29</td>\n",
              "      <td>0</td>\n",
              "      <td>26.6</td>\n",
              "      <td>0.351</td>\n",
              "      <td>31</td>\n",
              "      <td>0</td>\n",
              "    </tr>\n",
              "    <tr>\n",
              "      <th>2</th>\n",
              "      <td>8</td>\n",
              "      <td>183</td>\n",
              "      <td>64</td>\n",
              "      <td>0</td>\n",
              "      <td>0</td>\n",
              "      <td>23.3</td>\n",
              "      <td>0.672</td>\n",
              "      <td>32</td>\n",
              "      <td>1</td>\n",
              "    </tr>\n",
              "    <tr>\n",
              "      <th>3</th>\n",
              "      <td>1</td>\n",
              "      <td>89</td>\n",
              "      <td>66</td>\n",
              "      <td>23</td>\n",
              "      <td>94</td>\n",
              "      <td>28.1</td>\n",
              "      <td>0.167</td>\n",
              "      <td>21</td>\n",
              "      <td>0</td>\n",
              "    </tr>\n",
              "    <tr>\n",
              "      <th>4</th>\n",
              "      <td>0</td>\n",
              "      <td>137</td>\n",
              "      <td>40</td>\n",
              "      <td>35</td>\n",
              "      <td>168</td>\n",
              "      <td>43.1</td>\n",
              "      <td>2.288</td>\n",
              "      <td>33</td>\n",
              "      <td>1</td>\n",
              "    </tr>\n",
              "  </tbody>\n",
              "</table>\n",
              "</div>\n",
              "      <button class=\"colab-df-convert\" onclick=\"convertToInteractive('df-11965053-e746-4bfb-adb9-6c1055d5832c')\"\n",
              "              title=\"Convert this dataframe to an interactive table.\"\n",
              "              style=\"display:none;\">\n",
              "        \n",
              "  <svg xmlns=\"http://www.w3.org/2000/svg\" height=\"24px\"viewBox=\"0 0 24 24\"\n",
              "       width=\"24px\">\n",
              "    <path d=\"M0 0h24v24H0V0z\" fill=\"none\"/>\n",
              "    <path d=\"M18.56 5.44l.94 2.06.94-2.06 2.06-.94-2.06-.94-.94-2.06-.94 2.06-2.06.94zm-11 1L8.5 8.5l.94-2.06 2.06-.94-2.06-.94L8.5 2.5l-.94 2.06-2.06.94zm10 10l.94 2.06.94-2.06 2.06-.94-2.06-.94-.94-2.06-.94 2.06-2.06.94z\"/><path d=\"M17.41 7.96l-1.37-1.37c-.4-.4-.92-.59-1.43-.59-.52 0-1.04.2-1.43.59L10.3 9.45l-7.72 7.72c-.78.78-.78 2.05 0 2.83L4 21.41c.39.39.9.59 1.41.59.51 0 1.02-.2 1.41-.59l7.78-7.78 2.81-2.81c.8-.78.8-2.07 0-2.86zM5.41 20L4 18.59l7.72-7.72 1.47 1.35L5.41 20z\"/>\n",
              "  </svg>\n",
              "      </button>\n",
              "      \n",
              "  <style>\n",
              "    .colab-df-container {\n",
              "      display:flex;\n",
              "      flex-wrap:wrap;\n",
              "      gap: 12px;\n",
              "    }\n",
              "\n",
              "    .colab-df-convert {\n",
              "      background-color: #E8F0FE;\n",
              "      border: none;\n",
              "      border-radius: 50%;\n",
              "      cursor: pointer;\n",
              "      display: none;\n",
              "      fill: #1967D2;\n",
              "      height: 32px;\n",
              "      padding: 0 0 0 0;\n",
              "      width: 32px;\n",
              "    }\n",
              "\n",
              "    .colab-df-convert:hover {\n",
              "      background-color: #E2EBFA;\n",
              "      box-shadow: 0px 1px 2px rgba(60, 64, 67, 0.3), 0px 1px 3px 1px rgba(60, 64, 67, 0.15);\n",
              "      fill: #174EA6;\n",
              "    }\n",
              "\n",
              "    [theme=dark] .colab-df-convert {\n",
              "      background-color: #3B4455;\n",
              "      fill: #D2E3FC;\n",
              "    }\n",
              "\n",
              "    [theme=dark] .colab-df-convert:hover {\n",
              "      background-color: #434B5C;\n",
              "      box-shadow: 0px 1px 3px 1px rgba(0, 0, 0, 0.15);\n",
              "      filter: drop-shadow(0px 1px 2px rgba(0, 0, 0, 0.3));\n",
              "      fill: #FFFFFF;\n",
              "    }\n",
              "  </style>\n",
              "\n",
              "      <script>\n",
              "        const buttonEl =\n",
              "          document.querySelector('#df-11965053-e746-4bfb-adb9-6c1055d5832c button.colab-df-convert');\n",
              "        buttonEl.style.display =\n",
              "          google.colab.kernel.accessAllowed ? 'block' : 'none';\n",
              "\n",
              "        async function convertToInteractive(key) {\n",
              "          const element = document.querySelector('#df-11965053-e746-4bfb-adb9-6c1055d5832c');\n",
              "          const dataTable =\n",
              "            await google.colab.kernel.invokeFunction('convertToInteractive',\n",
              "                                                     [key], {});\n",
              "          if (!dataTable) return;\n",
              "\n",
              "          const docLinkHtml = 'Like what you see? Visit the ' +\n",
              "            '<a target=\"_blank\" href=https://colab.research.google.com/notebooks/data_table.ipynb>data table notebook</a>'\n",
              "            + ' to learn more about interactive tables.';\n",
              "          element.innerHTML = '';\n",
              "          dataTable['output_type'] = 'display_data';\n",
              "          await google.colab.output.renderOutput(dataTable, element);\n",
              "          const docLink = document.createElement('div');\n",
              "          docLink.innerHTML = docLinkHtml;\n",
              "          element.appendChild(docLink);\n",
              "        }\n",
              "      </script>\n",
              "    </div>\n",
              "  </div>\n",
              "  "
            ],
            "text/plain": [
              "   Pregnancies  Glucose  BloodPressure  ...  DiabetesPedigreeFunction  Age  Outcome\n",
              "0            6      148             72  ...                     0.627   50        1\n",
              "1            1       85             66  ...                     0.351   31        0\n",
              "2            8      183             64  ...                     0.672   32        1\n",
              "3            1       89             66  ...                     0.167   21        0\n",
              "4            0      137             40  ...                     2.288   33        1\n",
              "\n",
              "[5 rows x 9 columns]"
            ]
          },
          "metadata": {},
          "execution_count": 5
        }
      ],
      "source": [
        "df1.head() "
      ]
    },
    {
      "cell_type": "code",
      "execution_count": null,
      "metadata": {
        "colab": {
          "base_uri": "https://localhost:8080/"
        },
        "id": "B-bzbbZ7UZ4c",
        "outputId": "01bcd446-5fe3-4891-f719-b514e2e7d116"
      },
      "outputs": [
        {
          "output_type": "stream",
          "name": "stdout",
          "text": [
            "<class 'pandas.core.frame.DataFrame'>\n",
            "RangeIndex: 768 entries, 0 to 767\n",
            "Data columns (total 9 columns):\n",
            " #   Column                    Non-Null Count  Dtype  \n",
            "---  ------                    --------------  -----  \n",
            " 0   Pregnancies               768 non-null    int64  \n",
            " 1   Glucose                   768 non-null    int64  \n",
            " 2   BloodPressure             768 non-null    int64  \n",
            " 3   SkinThickness             768 non-null    int64  \n",
            " 4   Insulin                   768 non-null    int64  \n",
            " 5   BMI                       768 non-null    float64\n",
            " 6   DiabetesPedigreeFunction  768 non-null    float64\n",
            " 7   Age                       768 non-null    int64  \n",
            " 8   Outcome                   768 non-null    int64  \n",
            "dtypes: float64(2), int64(7)\n",
            "memory usage: 54.1 KB\n"
          ]
        }
      ],
      "source": [
        "df1.info()"
      ]
    },
    {
      "cell_type": "code",
      "execution_count": null,
      "metadata": {
        "colab": {
          "base_uri": "https://localhost:8080/"
        },
        "id": "J7dHp8QfUZ4c",
        "outputId": "986bed05-a26d-4d12-e45e-2c7c1e046840"
      },
      "outputs": [
        {
          "output_type": "execute_result",
          "data": {
            "text/html": [
              "\n",
              "  <div id=\"df-1e7bde29-9b0a-4e33-9bd4-ba35ebd82904\">\n",
              "    <div class=\"colab-df-container\">\n",
              "      <div>\n",
              "<style scoped>\n",
              "    .dataframe tbody tr th:only-of-type {\n",
              "        vertical-align: middle;\n",
              "    }\n",
              "\n",
              "    .dataframe tbody tr th {\n",
              "        vertical-align: top;\n",
              "    }\n",
              "\n",
              "    .dataframe thead th {\n",
              "        text-align: right;\n",
              "    }\n",
              "</style>\n",
              "<table border=\"1\" class=\"dataframe\">\n",
              "  <thead>\n",
              "    <tr style=\"text-align: right;\">\n",
              "      <th></th>\n",
              "      <th>count</th>\n",
              "      <th>mean</th>\n",
              "      <th>std</th>\n",
              "      <th>min</th>\n",
              "      <th>25%</th>\n",
              "      <th>50%</th>\n",
              "      <th>75%</th>\n",
              "      <th>max</th>\n",
              "    </tr>\n",
              "  </thead>\n",
              "  <tbody>\n",
              "    <tr>\n",
              "      <th>Pregnancies</th>\n",
              "      <td>768.0</td>\n",
              "      <td>3.845052</td>\n",
              "      <td>3.369578</td>\n",
              "      <td>0.000</td>\n",
              "      <td>1.00000</td>\n",
              "      <td>3.0000</td>\n",
              "      <td>6.00000</td>\n",
              "      <td>17.00</td>\n",
              "    </tr>\n",
              "    <tr>\n",
              "      <th>Glucose</th>\n",
              "      <td>768.0</td>\n",
              "      <td>120.894531</td>\n",
              "      <td>31.972618</td>\n",
              "      <td>0.000</td>\n",
              "      <td>99.00000</td>\n",
              "      <td>117.0000</td>\n",
              "      <td>140.25000</td>\n",
              "      <td>199.00</td>\n",
              "    </tr>\n",
              "    <tr>\n",
              "      <th>BloodPressure</th>\n",
              "      <td>768.0</td>\n",
              "      <td>69.105469</td>\n",
              "      <td>19.355807</td>\n",
              "      <td>0.000</td>\n",
              "      <td>62.00000</td>\n",
              "      <td>72.0000</td>\n",
              "      <td>80.00000</td>\n",
              "      <td>122.00</td>\n",
              "    </tr>\n",
              "    <tr>\n",
              "      <th>SkinThickness</th>\n",
              "      <td>768.0</td>\n",
              "      <td>20.536458</td>\n",
              "      <td>15.952218</td>\n",
              "      <td>0.000</td>\n",
              "      <td>0.00000</td>\n",
              "      <td>23.0000</td>\n",
              "      <td>32.00000</td>\n",
              "      <td>99.00</td>\n",
              "    </tr>\n",
              "    <tr>\n",
              "      <th>Insulin</th>\n",
              "      <td>768.0</td>\n",
              "      <td>79.799479</td>\n",
              "      <td>115.244002</td>\n",
              "      <td>0.000</td>\n",
              "      <td>0.00000</td>\n",
              "      <td>30.5000</td>\n",
              "      <td>127.25000</td>\n",
              "      <td>846.00</td>\n",
              "    </tr>\n",
              "    <tr>\n",
              "      <th>BMI</th>\n",
              "      <td>768.0</td>\n",
              "      <td>31.992578</td>\n",
              "      <td>7.884160</td>\n",
              "      <td>0.000</td>\n",
              "      <td>27.30000</td>\n",
              "      <td>32.0000</td>\n",
              "      <td>36.60000</td>\n",
              "      <td>67.10</td>\n",
              "    </tr>\n",
              "    <tr>\n",
              "      <th>DiabetesPedigreeFunction</th>\n",
              "      <td>768.0</td>\n",
              "      <td>0.471876</td>\n",
              "      <td>0.331329</td>\n",
              "      <td>0.078</td>\n",
              "      <td>0.24375</td>\n",
              "      <td>0.3725</td>\n",
              "      <td>0.62625</td>\n",
              "      <td>2.42</td>\n",
              "    </tr>\n",
              "    <tr>\n",
              "      <th>Age</th>\n",
              "      <td>768.0</td>\n",
              "      <td>33.240885</td>\n",
              "      <td>11.760232</td>\n",
              "      <td>21.000</td>\n",
              "      <td>24.00000</td>\n",
              "      <td>29.0000</td>\n",
              "      <td>41.00000</td>\n",
              "      <td>81.00</td>\n",
              "    </tr>\n",
              "    <tr>\n",
              "      <th>Outcome</th>\n",
              "      <td>768.0</td>\n",
              "      <td>0.348958</td>\n",
              "      <td>0.476951</td>\n",
              "      <td>0.000</td>\n",
              "      <td>0.00000</td>\n",
              "      <td>0.0000</td>\n",
              "      <td>1.00000</td>\n",
              "      <td>1.00</td>\n",
              "    </tr>\n",
              "  </tbody>\n",
              "</table>\n",
              "</div>\n",
              "      <button class=\"colab-df-convert\" onclick=\"convertToInteractive('df-1e7bde29-9b0a-4e33-9bd4-ba35ebd82904')\"\n",
              "              title=\"Convert this dataframe to an interactive table.\"\n",
              "              style=\"display:none;\">\n",
              "        \n",
              "  <svg xmlns=\"http://www.w3.org/2000/svg\" height=\"24px\"viewBox=\"0 0 24 24\"\n",
              "       width=\"24px\">\n",
              "    <path d=\"M0 0h24v24H0V0z\" fill=\"none\"/>\n",
              "    <path d=\"M18.56 5.44l.94 2.06.94-2.06 2.06-.94-2.06-.94-.94-2.06-.94 2.06-2.06.94zm-11 1L8.5 8.5l.94-2.06 2.06-.94-2.06-.94L8.5 2.5l-.94 2.06-2.06.94zm10 10l.94 2.06.94-2.06 2.06-.94-2.06-.94-.94-2.06-.94 2.06-2.06.94z\"/><path d=\"M17.41 7.96l-1.37-1.37c-.4-.4-.92-.59-1.43-.59-.52 0-1.04.2-1.43.59L10.3 9.45l-7.72 7.72c-.78.78-.78 2.05 0 2.83L4 21.41c.39.39.9.59 1.41.59.51 0 1.02-.2 1.41-.59l7.78-7.78 2.81-2.81c.8-.78.8-2.07 0-2.86zM5.41 20L4 18.59l7.72-7.72 1.47 1.35L5.41 20z\"/>\n",
              "  </svg>\n",
              "      </button>\n",
              "      \n",
              "  <style>\n",
              "    .colab-df-container {\n",
              "      display:flex;\n",
              "      flex-wrap:wrap;\n",
              "      gap: 12px;\n",
              "    }\n",
              "\n",
              "    .colab-df-convert {\n",
              "      background-color: #E8F0FE;\n",
              "      border: none;\n",
              "      border-radius: 50%;\n",
              "      cursor: pointer;\n",
              "      display: none;\n",
              "      fill: #1967D2;\n",
              "      height: 32px;\n",
              "      padding: 0 0 0 0;\n",
              "      width: 32px;\n",
              "    }\n",
              "\n",
              "    .colab-df-convert:hover {\n",
              "      background-color: #E2EBFA;\n",
              "      box-shadow: 0px 1px 2px rgba(60, 64, 67, 0.3), 0px 1px 3px 1px rgba(60, 64, 67, 0.15);\n",
              "      fill: #174EA6;\n",
              "    }\n",
              "\n",
              "    [theme=dark] .colab-df-convert {\n",
              "      background-color: #3B4455;\n",
              "      fill: #D2E3FC;\n",
              "    }\n",
              "\n",
              "    [theme=dark] .colab-df-convert:hover {\n",
              "      background-color: #434B5C;\n",
              "      box-shadow: 0px 1px 3px 1px rgba(0, 0, 0, 0.15);\n",
              "      filter: drop-shadow(0px 1px 2px rgba(0, 0, 0, 0.3));\n",
              "      fill: #FFFFFF;\n",
              "    }\n",
              "  </style>\n",
              "\n",
              "      <script>\n",
              "        const buttonEl =\n",
              "          document.querySelector('#df-1e7bde29-9b0a-4e33-9bd4-ba35ebd82904 button.colab-df-convert');\n",
              "        buttonEl.style.display =\n",
              "          google.colab.kernel.accessAllowed ? 'block' : 'none';\n",
              "\n",
              "        async function convertToInteractive(key) {\n",
              "          const element = document.querySelector('#df-1e7bde29-9b0a-4e33-9bd4-ba35ebd82904');\n",
              "          const dataTable =\n",
              "            await google.colab.kernel.invokeFunction('convertToInteractive',\n",
              "                                                     [key], {});\n",
              "          if (!dataTable) return;\n",
              "\n",
              "          const docLinkHtml = 'Like what you see? Visit the ' +\n",
              "            '<a target=\"_blank\" href=https://colab.research.google.com/notebooks/data_table.ipynb>data table notebook</a>'\n",
              "            + ' to learn more about interactive tables.';\n",
              "          element.innerHTML = '';\n",
              "          dataTable['output_type'] = 'display_data';\n",
              "          await google.colab.output.renderOutput(dataTable, element);\n",
              "          const docLink = document.createElement('div');\n",
              "          docLink.innerHTML = docLinkHtml;\n",
              "          element.appendChild(docLink);\n",
              "        }\n",
              "      </script>\n",
              "    </div>\n",
              "  </div>\n",
              "  "
            ],
            "text/plain": [
              "                          count        mean  ...        75%     max\n",
              "Pregnancies               768.0    3.845052  ...    6.00000   17.00\n",
              "Glucose                   768.0  120.894531  ...  140.25000  199.00\n",
              "BloodPressure             768.0   69.105469  ...   80.00000  122.00\n",
              "SkinThickness             768.0   20.536458  ...   32.00000   99.00\n",
              "Insulin                   768.0   79.799479  ...  127.25000  846.00\n",
              "BMI                       768.0   31.992578  ...   36.60000   67.10\n",
              "DiabetesPedigreeFunction  768.0    0.471876  ...    0.62625    2.42\n",
              "Age                       768.0   33.240885  ...   41.00000   81.00\n",
              "Outcome                   768.0    0.348958  ...    1.00000    1.00\n",
              "\n",
              "[9 rows x 8 columns]"
            ]
          },
          "metadata": {},
          "execution_count": 7
        }
      ],
      "source": [
        "df1.describe().T"
      ]
    },
    {
      "cell_type": "code",
      "execution_count": null,
      "metadata": {
        "colab": {
          "base_uri": "https://localhost:8080/"
        },
        "id": "hcv5-ld2UZ4d",
        "outputId": "461223cd-641a-4ec7-ee4d-78497a999649"
      },
      "outputs": [
        {
          "output_type": "execute_result",
          "data": {
            "text/plain": [
              "0    500\n",
              "1    268\n",
              "Name: Outcome, dtype: int64"
            ]
          },
          "metadata": {},
          "execution_count": 8
        }
      ],
      "source": [
        "df1['Outcome'].value_counts()"
      ]
    },
    {
      "cell_type": "code",
      "execution_count": null,
      "metadata": {
        "colab": {
          "base_uri": "https://localhost:8080/"
        },
        "id": "TxaNZOJBUZ4e",
        "outputId": "984b86e4-ec66-45e9-ceca-2011a77a0b0a"
      },
      "outputs": [
        {
          "output_type": "stream",
          "name": "stderr",
          "text": [
            "/usr/local/lib/python3.7/dist-packages/seaborn/_decorators.py:43: FutureWarning: Pass the following variable as a keyword arg: x. From version 0.12, the only valid positional argument will be `data`, and passing other arguments without an explicit keyword will result in an error or misinterpretation.\n",
            "  FutureWarning\n"
          ]
        },
        {
          "output_type": "display_data",
          "data": {
            "image/png": "[encoded data removed]",
            "text/plain": [
              "<Figure size 720x360 with 2 Axes>"
            ]
          },
          "metadata": {
            "needs_background": "light"
          }
        }
      ],
      "source": [
        "f,ax=plt.subplots(1,2,figsize=(10,5))\n",
        "df1['Outcome'].value_counts().plot.pie(explode=[0,0.1],autopct='%1.1f%%',ax=ax[0],shadow=True)\n",
        "ax[0].set_title('Dağılım')\n",
        "ax[0].set_ylabel('')\n",
        "sns.countplot('Outcome',data=df1,ax=ax[1])\n",
        "ax[1].set_title('Outcome')\n",
        "plt.show()"
      ]
    },
    {
      "cell_type": "code",
      "execution_count": null,
      "metadata": {
        "colab": {
          "base_uri": "https://localhost:8080/"
        },
        "id": "vN7WVvQiUZ4f",
        "outputId": "4bd15af4-4b98-4135-e801-5a6d070e779c"
      },
      "outputs": [
        {
          "output_type": "execute_result",
          "data": {
            "text/plain": [
              "Pregnancies                 0\n",
              "Glucose                     0\n",
              "BloodPressure               0\n",
              "SkinThickness               0\n",
              "Insulin                     0\n",
              "BMI                         0\n",
              "DiabetesPedigreeFunction    0\n",
              "Age                         0\n",
              "Outcome                     0\n",
              "dtype: int64"
            ]
          },
          "metadata": {},
          "execution_count": 10
        }
      ],
      "source": [
        "df1.isnull().sum()  # null değer gözükmüyor "
      ]
    },
    {
      "cell_type": "code",
      "execution_count": null,
      "metadata": {
        "colab": {
          "base_uri": "https://localhost:8080/"
        },
        "id": "8Zhvhmx4UZ4f",
        "outputId": "95e79613-327d-4c37-a00f-aec72d14f8e3"
      },
      "outputs": [
        {
          "output_type": "execute_result",
          "data": {
            "text/plain": [
              "Pregnancies                  0\n",
              "Glucose                      5\n",
              "BloodPressure               35\n",
              "SkinThickness                0\n",
              "Insulin                      0\n",
              "BMI                         11\n",
              "DiabetesPedigreeFunction     0\n",
              "Age                          0\n",
              "Outcome                      0\n",
              "dtype: int64"
            ]
          },
          "metadata": {},
          "execution_count": 11
        }
      ],
      "source": [
        "df1[[\"Glucose\",\"BloodPressure\",\n",
        "     \"BMI\"]] = df1[[\"Glucose\",\"BloodPressure\",\n",
        "     \"BMI\"]].replace(0,np.NaN)\n",
        "df1.isnull().sum()"
      ]
    },
    {
      "cell_type": "code",
      "execution_count": null,
      "metadata": {
        "colab": {
          "base_uri": "https://localhost:8080/"
        },
        "id": "l00sBM6YUZ4f",
        "outputId": "c0d0faa9-6eab-4ebc-f7ad-17f2fa961645"
      },
      "outputs": [
        {
          "output_type": "display_data",
          "data": {
            "image/png": "[encoded data removed]",
            "text/plain": [
              "<Figure size 720x576 with 2 Axes>"
            ]
          },
          "metadata": {
            "needs_background": "light"
          }
        }
      ],
      "source": [
        "msno.matrix(df1,figsize=(10,8))\n",
        "plt.show()"
      ]
    },
    {
      "cell_type": "code",
      "execution_count": null,
      "metadata": {
        "colab": {
          "base_uri": "https://localhost:8080/"
        },
        "id": "eN1nKt9IUZ4g",
        "outputId": "b3882f21-4a71-459a-cf46-e4b1b41b7eaf"
      },
      "outputs": [
        {
          "output_type": "display_data",
          "data": {
            "image/png": "[encoded data removed]",
            "text/plain": [
              "<Figure size 720x576 with 3 Axes>"
            ]
          },
          "metadata": {
            "needs_background": "light"
          }
        }
      ],
      "source": [
        "msno.bar(df1,figsize=(10,8))\n",
        "plt.show()\n"
      ]
    },
    {
      "cell_type": "code",
      "execution_count": null,
      "metadata": {
        "id": "nX_x4AL_UZ4g"
      },
      "outputs": [],
      "source": [
        "df1.dropna(inplace = True)\n"
      ]
    },
    {
      "cell_type": "code",
      "execution_count": null,
      "metadata": {
        "colab": {
          "base_uri": "https://localhost:8080/"
        },
        "id": "TCS8e6gQUZ4h",
        "outputId": "0eeaacfe-4399-4600-e6b8-86fb2ce53710"
      },
      "outputs": [
        {
          "output_type": "stream",
          "name": "stdout",
          "text": [
            "<class 'pandas.core.frame.DataFrame'>\n",
            "Int64Index: 724 entries, 0 to 767\n",
            "Data columns (total 9 columns):\n",
            " #   Column                    Non-Null Count  Dtype  \n",
            "---  ------                    --------------  -----  \n",
            " 0   Pregnancies               724 non-null    int64  \n",
            " 1   Glucose                   724 non-null    float64\n",
            " 2   BloodPressure             724 non-null    float64\n",
            " 3   SkinThickness             724 non-null    int64  \n",
            " 4   Insulin                   724 non-null    int64  \n",
            " 5   BMI                       724 non-null    float64\n",
            " 6   DiabetesPedigreeFunction  724 non-null    float64\n",
            " 7   Age                       724 non-null    int64  \n",
            " 8   Outcome                   724 non-null    int64  \n",
            "dtypes: float64(4), int64(5)\n",
            "memory usage: 56.6 KB\n"
          ]
        }
      ],
      "source": [
        "df1.info()"
      ]
    },
    {
      "cell_type": "code",
      "source": [
        "plt.figure(figsize=(6,4))\n",
        "sns.heatmap(df1.corr(),cmap='Blues',annot=False)"
      ],
      "metadata": {
        "id": "eajQX8ps7KKu",
        "colab": {
          "base_uri": "https://localhost:8080/"
        },
        "outputId": "3bca7122-205d-4219-ec6d-1b82e1ceb839"
      },
      "execution_count": null,
      "outputs": [
        {
          "output_type": "execute_result",
          "data": {
            "text/plain": [
              "<matplotlib.axes._subplots.AxesSubplot at 0x7f01f6285090>"
            ]
          },
          "metadata": {},
          "execution_count": 16
        },
        {
          "output_type": "display_data",
          "data": {
            "image/png": "[encoded data removed]",
            "text/plain": [
              "<Figure size 432x288 with 2 Axes>"
            ]
          },
          "metadata": {
            "needs_background": "light"
          }
        }
      ]
    },
    {
      "cell_type": "markdown",
      "metadata": {
        "id": "0de7deMOToMF"
      },
      "source": [
        "#***Standartlaştırma*** "
      ]
    },
    {
      "cell_type": "code",
      "execution_count": null,
      "metadata": {
        "colab": {
          "base_uri": "https://localhost:8080/"
        },
        "id": "TKSz5roKUZ4h",
        "outputId": "a90249c1-7b92-4e35-f576-f0b4971acad8"
      },
      "outputs": [
        {
          "output_type": "execute_result",
          "data": {
            "text/html": [
              "\n",
              "  <div id=\"df-924edb9b-1375-4077-ae16-c3fb5cba3e21\">\n",
              "    <div class=\"colab-df-container\">\n",
              "      <div>\n",
              "<style scoped>\n",
              "    .dataframe tbody tr th:only-of-type {\n",
              "        vertical-align: middle;\n",
              "    }\n",
              "\n",
              "    .dataframe tbody tr th {\n",
              "        vertical-align: top;\n",
              "    }\n",
              "\n",
              "    .dataframe thead th {\n",
              "        text-align: right;\n",
              "    }\n",
              "</style>\n",
              "<table border=\"1\" class=\"dataframe\">\n",
              "  <thead>\n",
              "    <tr style=\"text-align: right;\">\n",
              "      <th></th>\n",
              "      <th>Pregnancies</th>\n",
              "      <th>Glucose</th>\n",
              "      <th>BloodPressure</th>\n",
              "      <th>SkinThickness</th>\n",
              "      <th>Insulin</th>\n",
              "      <th>BMI</th>\n",
              "      <th>DiabetesPedigreeFunction</th>\n",
              "      <th>Age</th>\n",
              "      <th>Outcome</th>\n",
              "    </tr>\n",
              "  </thead>\n",
              "  <tbody>\n",
              "    <tr>\n",
              "      <th>0</th>\n",
              "      <td>0.6</td>\n",
              "      <td>0.733728</td>\n",
              "      <td>0.000</td>\n",
              "      <td>0.333333</td>\n",
              "      <td>-0.367816</td>\n",
              "      <td>0.131868</td>\n",
              "      <td>0.648366</td>\n",
              "      <td>1.235294</td>\n",
              "      <td>1</td>\n",
              "    </tr>\n",
              "    <tr>\n",
              "      <th>1</th>\n",
              "      <td>-0.4</td>\n",
              "      <td>-0.757396</td>\n",
              "      <td>-0.375</td>\n",
              "      <td>0.151515</td>\n",
              "      <td>-0.367816</td>\n",
              "      <td>-0.637363</td>\n",
              "      <td>-0.073203</td>\n",
              "      <td>0.117647</td>\n",
              "      <td>0</td>\n",
              "    </tr>\n",
              "    <tr>\n",
              "      <th>2</th>\n",
              "      <td>1.0</td>\n",
              "      <td>1.562130</td>\n",
              "      <td>-0.500</td>\n",
              "      <td>-0.727273</td>\n",
              "      <td>-0.367816</td>\n",
              "      <td>-1.000000</td>\n",
              "      <td>0.766013</td>\n",
              "      <td>0.176471</td>\n",
              "      <td>1</td>\n",
              "    </tr>\n",
              "    <tr>\n",
              "      <th>3</th>\n",
              "      <td>-0.4</td>\n",
              "      <td>-0.662722</td>\n",
              "      <td>-0.375</td>\n",
              "      <td>-0.030303</td>\n",
              "      <td>0.352490</td>\n",
              "      <td>-0.472527</td>\n",
              "      <td>-0.554248</td>\n",
              "      <td>-0.470588</td>\n",
              "      <td>0</td>\n",
              "    </tr>\n",
              "    <tr>\n",
              "      <th>4</th>\n",
              "      <td>-0.6</td>\n",
              "      <td>0.473373</td>\n",
              "      <td>-2.000</td>\n",
              "      <td>0.333333</td>\n",
              "      <td>0.919540</td>\n",
              "      <td>1.175824</td>\n",
              "      <td>4.990850</td>\n",
              "      <td>0.235294</td>\n",
              "      <td>1</td>\n",
              "    </tr>\n",
              "  </tbody>\n",
              "</table>\n",
              "</div>\n",
              "      <button class=\"colab-df-convert\" onclick=\"convertToInteractive('df-924edb9b-1375-4077-ae16-c3fb5cba3e21')\"\n",
              "              title=\"Convert this dataframe to an interactive table.\"\n",
              "              style=\"display:none;\">\n",
              "        \n",
              "  <svg xmlns=\"http://www.w3.org/2000/svg\" height=\"24px\"viewBox=\"0 0 24 24\"\n",
              "       width=\"24px\">\n",
              "    <path d=\"M0 0h24v24H0V0z\" fill=\"none\"/>\n",
              "    <path d=\"M18.56 5.44l.94 2.06.94-2.06 2.06-.94-2.06-.94-.94-2.06-.94 2.06-2.06.94zm-11 1L8.5 8.5l.94-2.06 2.06-.94-2.06-.94L8.5 2.5l-.94 2.06-2.06.94zm10 10l.94 2.06.94-2.06 2.06-.94-2.06-.94-.94-2.06-.94 2.06-2.06.94z\"/><path d=\"M17.41 7.96l-1.37-1.37c-.4-.4-.92-.59-1.43-.59-.52 0-1.04.2-1.43.59L10.3 9.45l-7.72 7.72c-.78.78-.78 2.05 0 2.83L4 21.41c.39.39.9.59 1.41.59.51 0 1.02-.2 1.41-.59l7.78-7.78 2.81-2.81c.8-.78.8-2.07 0-2.86zM5.41 20L4 18.59l7.72-7.72 1.47 1.35L5.41 20z\"/>\n",
              "  </svg>\n",
              "      </button>\n",
              "      \n",
              "  <style>\n",
              "    .colab-df-container {\n",
              "      display:flex;\n",
              "      flex-wrap:wrap;\n",
              "      gap: 12px;\n",
              "    }\n",
              "\n",
              "    .colab-df-convert {\n",
              "      background-color: #E8F0FE;\n",
              "      border: none;\n",
              "      border-radius: 50%;\n",
              "      cursor: pointer;\n",
              "      display: none;\n",
              "      fill: #1967D2;\n",
              "      height: 32px;\n",
              "      padding: 0 0 0 0;\n",
              "      width: 32px;\n",
              "    }\n",
              "\n",
              "    .colab-df-convert:hover {\n",
              "      background-color: #E2EBFA;\n",
              "      box-shadow: 0px 1px 2px rgba(60, 64, 67, 0.3), 0px 1px 3px 1px rgba(60, 64, 67, 0.15);\n",
              "      fill: #174EA6;\n",
              "    }\n",
              "\n",
              "    [theme=dark] .colab-df-convert {\n",
              "      background-color: #3B4455;\n",
              "      fill: #D2E3FC;\n",
              "    }\n",
              "\n",
              "    [theme=dark] .colab-df-convert:hover {\n",
              "      background-color: #434B5C;\n",
              "      box-shadow: 0px 1px 3px 1px rgba(0, 0, 0, 0.15);\n",
              "      filter: drop-shadow(0px 1px 2px rgba(0, 0, 0, 0.3));\n",
              "      fill: #FFFFFF;\n",
              "    }\n",
              "  </style>\n",
              "\n",
              "      <script>\n",
              "        const buttonEl =\n",
              "          document.querySelector('#df-924edb9b-1375-4077-ae16-c3fb5cba3e21 button.colab-df-convert');\n",
              "        buttonEl.style.display =\n",
              "          google.colab.kernel.accessAllowed ? 'block' : 'none';\n",
              "\n",
              "        async function convertToInteractive(key) {\n",
              "          const element = document.querySelector('#df-924edb9b-1375-4077-ae16-c3fb5cba3e21');\n",
              "          const dataTable =\n",
              "            await google.colab.kernel.invokeFunction('convertToInteractive',\n",
              "                                                     [key], {});\n",
              "          if (!dataTable) return;\n",
              "\n",
              "          const docLinkHtml = 'Like what you see? Visit the ' +\n",
              "            '<a target=\"_blank\" href=https://colab.research.google.com/notebooks/data_table.ipynb>data table notebook</a>'\n",
              "            + ' to learn more about interactive tables.';\n",
              "          element.innerHTML = '';\n",
              "          dataTable['output_type'] = 'display_data';\n",
              "          await google.colab.output.renderOutput(dataTable, element);\n",
              "          const docLink = document.createElement('div');\n",
              "          docLink.innerHTML = docLinkHtml;\n",
              "          element.appendChild(docLink);\n",
              "        }\n",
              "      </script>\n",
              "    </div>\n",
              "  </div>\n",
              "  "
            ],
            "text/plain": [
              "   Pregnancies   Glucose  ...       Age  Outcome\n",
              "0          0.6  0.733728  ...  1.235294        1\n",
              "1         -0.4 -0.757396  ...  0.117647        0\n",
              "2          1.0  1.562130  ...  0.176471        1\n",
              "3         -0.4 -0.662722  ... -0.470588        0\n",
              "4         -0.6  0.473373  ...  0.235294        1\n",
              "\n",
              "[5 rows x 9 columns]"
            ]
          },
          "metadata": {},
          "execution_count": 17
        }
      ],
      "source": [
        "from sklearn.preprocessing import RobustScaler\n",
        "\n",
        "\n",
        "\n",
        "rob_scaler = RobustScaler()\n",
        "df1['Pregnancies'] = rob_scaler.fit_transform(df1['Pregnancies'].values.reshape(-1,1))\n",
        "df1['Glucose'] = rob_scaler.fit_transform(df1['Glucose'].values.reshape(-1,1))\n",
        "df1['BloodPressure'] = rob_scaler.fit_transform(df1['BloodPressure'].values.reshape(-1,1))\n",
        "df1['BMI'] = rob_scaler.fit_transform(df1['BMI'].values.reshape(-1,1))\n",
        "df1['DiabetesPedigreeFunction'] = rob_scaler.fit_transform(df1['DiabetesPedigreeFunction'].values.reshape(-1,1))\n",
        "df1['Age'] = rob_scaler.fit_transform(df1['Age'].values.reshape(-1,1))\n",
        "df1['Insulin'] = rob_scaler.fit_transform(df1['Insulin'].values.reshape(-1,1))\n",
        "df1['SkinThickness'] = rob_scaler.fit_transform(df1['SkinThickness'].values.reshape(-1,1))\n",
        "df1.head()"
      ]
    },
    {
      "cell_type": "code",
      "execution_count": null,
      "metadata": {
        "id": "-LalCQgaUZ4h"
      },
      "outputs": [],
      "source": [
        "# veri setini train ve test olarak ayırıyoruz\n",
        "\n",
        "from sklearn.model_selection import train_test_split\n",
        "\n",
        "X = df1.drop(\"Outcome\", axis=1)\n",
        "y = df1[\"Outcome\"]\n",
        "X_train, X_test, y_train, y_test = train_test_split(X, y, test_size=0.20, random_state=123456)"
      ]
    },
    {
      "cell_type": "code",
      "execution_count": null,
      "metadata": {
        "id": "FN9WvVDvUZ4i"
      },
      "outputs": [],
      "source": [
        "# Smote uygulanması (Eğitim setine uygulanıyor)\n",
        "from imblearn.over_sampling import SMOTE\n",
        "oversample = SMOTE()\n",
        "X_smote, y_smote = oversample.fit_resample(X_train, y_train)"
      ]
    },
    {
      "cell_type": "markdown",
      "metadata": {
        "id": "YcAzt0L2Wzor"
      },
      "source": [
        "\n",
        "\n",
        "---\n",
        "\n",
        "*Dengeli Veri Seti*\n",
        "\n",
        "---\n",
        "\n"
      ]
    },
    {
      "cell_type": "code",
      "execution_count": null,
      "metadata": {
        "colab": {
          "base_uri": "https://localhost:8080/"
        },
        "id": "Y87UMo_4UZ4i",
        "outputId": "1e9da648-3b55-43f1-c8da-706f536fd8ac"
      },
      "outputs": [
        {
          "output_type": "execute_result",
          "data": {
            "text/plain": [
              "1    377\n",
              "0    377\n",
              "Name: Outcome, dtype: int64"
            ]
          },
          "metadata": {},
          "execution_count": 20
        }
      ],
      "source": [
        "y_smote.value_counts()    \n"
      ]
    },
    {
      "cell_type": "markdown",
      "metadata": {
        "id": "Cpefs_d2W9Y0"
      },
      "source": [
        "\n",
        "\n",
        "---\n",
        "\n",
        "\n",
        "#**GAUSSIAN NB**\n",
        "\n",
        "---\n",
        "\n"
      ]
    },
    {
      "cell_type": "code",
      "execution_count": null,
      "metadata": {
        "id": "CRbd1LInrVtn"
      },
      "outputs": [],
      "source": [
        "from sklearn.naive_bayes import GaussianNB\n",
        "from sklearn.metrics import accuracy_score\n",
        "from sklearn.metrics import confusion_matrix\n",
        "from sklearn.metrics import classification_report,f1_score,recall_score,roc_auc_score, roc_curve\n",
        "from sklearn.metrics import plot_confusion_matrix\n",
        "from sklearn.model_selection import GridSearchCV\n"
      ]
    },
    {
      "cell_type": "code",
      "execution_count": null,
      "metadata": {
        "colab": {
          "base_uri": "https://localhost:8080/"
        },
        "id": "mbKAeOXeUZ4i",
        "outputId": "a3b3414c-e84c-47dc-f8c0-cc57ca636be7"
      },
      "outputs": [
        {
          "output_type": "stream",
          "name": "stdout",
          "text": [
            "Train Accuracy : 75.332% \n",
            "Confusion Matrix-GaussianNB-Train: \n",
            "[[304  73]\n",
            " [113 264]]\n",
            "\n",
            "Model Sonuçları\n",
            "\n",
            "              precision    recall  f1-score   support\n",
            "\n",
            "           0       0.73      0.81      0.77       377\n",
            "           1       0.78      0.70      0.74       377\n",
            "\n",
            "    accuracy                           0.75       754\n",
            "   macro avg       0.76      0.75      0.75       754\n",
            "weighted avg       0.76      0.75      0.75       754\n",
            "\n",
            "----------------------------------------\n",
            "Test Accuracy  : 73.793% \n",
            "Confusion Matrix-GaussianNB-Test: \n",
            "[[78 20]\n",
            " [18 29]]\n",
            "\n",
            "Model Sonuçları\n",
            "\n",
            "              precision    recall  f1-score   support\n",
            "\n",
            "           0       0.81      0.80      0.80        98\n",
            "           1       0.59      0.62      0.60        47\n",
            "\n",
            "    accuracy                           0.74       145\n",
            "   macro avg       0.70      0.71      0.70       145\n",
            "weighted avg       0.74      0.74      0.74       145\n",
            "\n"
          ]
        }
      ],
      "source": [
        "gaussianNB = GaussianNB()\n",
        "gaussianNB = gaussianNB.fit(X_smote, y_smote)\n",
        "\n",
        "train_pred_gaussianNB = gaussianNB.predict(X_smote)\n",
        "print('Train Accuracy : %.3f%% ' % (accuracy_score(y_smote , train_pred_gaussianNB)*100))\n",
        "\n",
        "print(\"Confusion Matrix-GaussianNB-Train: \")\n",
        "print(confusion_matrix(y_smote, train_pred_gaussianNB))\n",
        "\n",
        "print('\\nModel Sonuçları\\n')\n",
        "print(classification_report(y_smote, train_pred_gaussianNB))\n",
        "\n",
        "print(\"-\"*40)\n",
        "\n",
        "test_pred_gaussianNB = gaussianNB.predict(X_test)\n",
        "print('Test Accuracy  : %.3f%% ' % (accuracy_score(y_test, test_pred_gaussianNB)*100))\n",
        "\n",
        "print(\"Confusion Matrix-GaussianNB-Test: \")\n",
        "print(confusion_matrix(y_test, test_pred_gaussianNB))\n",
        "\n",
        "print('\\nModel Sonuçları\\n')\n",
        "print(classification_report(y_test, test_pred_gaussianNB))"
      ]
    },
    {
      "cell_type": "code",
      "execution_count": null,
      "metadata": {
        "colab": {
          "base_uri": "https://localhost:8080/"
        },
        "id": "bWX_tZnkWK4N",
        "outputId": "5c537aa0-9704-4114-ea61-3d08648e9a86"
      },
      "outputs": [
        {
          "output_type": "execute_result",
          "data": {
            "text/plain": [
              "0.7064698219713418"
            ]
          },
          "metadata": {},
          "execution_count": 23
        },
        {
          "output_type": "display_data",
          "data": {
            "image/png": "[encoded data removed]",
            "text/plain": [
              "<Figure size 432x288 with 1 Axes>"
            ]
          },
          "metadata": {
            "needs_background": "light"
          }
        }
      ],
      "source": [
        "fpr , tpr , thresolds = metrics.roc_curve(y_smote , train_pred_gaussianNB)\n",
        "roc_auc = metrics.auc(fpr , tpr)\n",
        "plt.plot(fpr , tpr ,'b' ,label = 'AUC =0.2f' %roc_auc)\n",
        "roc_auc\n",
        "\n",
        "fpr , tpr , thresolds = metrics.roc_curve(y_test, test_pred_gaussianNB)\n",
        "roc_auc = metrics.auc(fpr , tpr)\n",
        "plt.plot(fpr , tpr ,'b' ,label = 'AUC =0.2f' %roc_auc)\n",
        "roc_auc"
      ]
    },
    {
      "cell_type": "markdown",
      "metadata": {
        "id": "tJyUr9mE9gxX"
      },
      "source": [
        "\n",
        "\n",
        "---\n",
        "GaussianNB Hiperparametre ile\n",
        "\n",
        "---\n",
        "\n",
        "\n"
      ]
    },
    {
      "cell_type": "code",
      "execution_count": null,
      "metadata": {
        "colab": {
          "base_uri": "https://localhost:8080/"
        },
        "id": "Fb0zzhyXOf_g",
        "outputId": "8dd669f8-8a7f-4700-eabe-cf4edff50010"
      },
      "outputs": [
        {
          "output_type": "stream",
          "name": "stdout",
          "text": [
            "Fitting 5 folds for each of 1 candidates, totalling 5 fits\n",
            "              precision    recall  f1-score   support\n",
            "\n",
            "           0       0.71      0.81      0.76       377\n",
            "           1       0.78      0.66      0.72       377\n",
            "\n",
            "    accuracy                           0.74       754\n",
            "   macro avg       0.74      0.74      0.74       754\n",
            "weighted avg       0.74      0.74      0.74       754\n",
            "\n",
            "Training Skoru: 0.7374005305039788\n",
            "Fitting 5 folds for each of 1 candidates, totalling 5 fits\n",
            "              precision    recall  f1-score   support\n",
            "\n",
            "           0       0.79      0.87      0.83        98\n",
            "           1       0.66      0.53      0.59        47\n",
            "\n",
            "    accuracy                           0.76       145\n",
            "   macro avg       0.73      0.70      0.71       145\n",
            "weighted avg       0.75      0.76      0.75       145\n",
            "\n",
            "Test Skoru: 0.7586206896551724\n"
          ]
        }
      ],
      "source": [
        "nb_classifier = GaussianNB()\n",
        "\n",
        "params_NB =  {'var_smoothing': [0.1873817422860384]}   #0-1 aralğı test ediliyor \n",
        "gs_NB = GridSearchCV(estimator=nb_classifier, param_grid=params_NB,verbose=1,cv=5, scoring='accuracy') \n",
        " \n",
        "#Train Sınıflandırma raporunu yazdırmak\n",
        "gs_NB.fit(X_smote,y_smote) \n",
        "gs_NB_pre_train = gs_NB.predict(X_smote)\n",
        "print(classification_report(y_smote , gs_NB_pre_train))\n",
        "print(\"Training Skoru:\",accuracy_score(y_smote , gs_NB_pre_train))\n",
        "\n",
        "#Test Sınıflandırma raporunu yazdırmak\n",
        "gs_NB.fit(X_test,y_test) \n",
        "gs_NB_pre_test = gs_NB.predict(X_test)\n",
        "print(classification_report(y_test , gs_NB_pre_test))\n",
        "print(\"Test Skoru:\",accuracy_score(y_test , gs_NB_pre_test))\n",
        "\n"
      ]
    },
    {
      "cell_type": "code",
      "source": [
        "print(plot_roc_curve(gs_NB, X_smote, y_smote),plot_roc_curve(gs_NB, X_test, y_test))"
      ],
      "metadata": {
        "colab": {
          "base_uri": "https://localhost:8080/"
        },
        "id": "Z3uyBPaRrd_h",
        "outputId": "741dcb1b-e4a9-4e9d-d912-7b6f81b1b4eb"
      },
      "execution_count": null,
      "outputs": [
        {
          "output_type": "stream",
          "name": "stdout",
          "text": [
            "<sklearn.metrics._plot.roc_curve.RocCurveDisplay object at 0x7f01f53cbb50> <sklearn.metrics._plot.roc_curve.RocCurveDisplay object at 0x7f01f534ae10>\n"
          ]
        },
        {
          "output_type": "stream",
          "name": "stderr",
          "text": [
            "/usr/local/lib/python3.7/dist-packages/sklearn/utils/deprecation.py:87: FutureWarning: Function plot_roc_curve is deprecated; Function :func:`plot_roc_curve` is deprecated in 1.0 and will be removed in 1.2. Use one of the class methods: :meth:`sklearn.metric.RocCurveDisplay.from_predictions` or :meth:`sklearn.metric.RocCurveDisplay.from_estimator`.\n",
            "  warnings.warn(msg, category=FutureWarning)\n",
            "/usr/local/lib/python3.7/dist-packages/sklearn/utils/deprecation.py:87: FutureWarning: Function plot_roc_curve is deprecated; Function :func:`plot_roc_curve` is deprecated in 1.0 and will be removed in 1.2. Use one of the class methods: :meth:`sklearn.metric.RocCurveDisplay.from_predictions` or :meth:`sklearn.metric.RocCurveDisplay.from_estimator`.\n",
            "  warnings.warn(msg, category=FutureWarning)\n"
          ]
        },
        {
          "output_type": "display_data",
          "data": {
            "image/png": "[encoded data removed]",
            "text/plain": [
              "<Figure size 432x288 with 1 Axes>"
            ]
          },
          "metadata": {
            "needs_background": "light"
          }
        },
        {
          "output_type": "display_data",
          "data": {
            "image/png": "[encoded data removed]",
            "text/plain": [
              "<Figure size 432x288 with 1 Axes>"
            ]
          },
          "metadata": {
            "needs_background": "light"
          }
        }
      ]
    },
    {
      "cell_type": "markdown",
      "metadata": {
        "id": "uC8-e9xpXQ5w"
      },
      "source": [
        "\n",
        "\n",
        "---\n",
        "\n",
        "\n",
        "\n",
        "#**BERNOULLI NB**\n",
        "\n",
        "\n",
        "\n",
        "---\n",
        "\n"
      ]
    },
    {
      "cell_type": "code",
      "execution_count": null,
      "metadata": {
        "colab": {
          "base_uri": "https://localhost:8080/"
        },
        "id": "xOkjLHEaUZ4j",
        "outputId": "923af458-0f51-40ec-8ae0-41f8dbbe3108"
      },
      "outputs": [
        {
          "output_type": "stream",
          "name": "stdout",
          "text": [
            "Train Accuracy : 69.894% \n",
            "Confusion Matrix-BernoulliNB-Train: \n",
            "[[251 126]\n",
            " [101 276]]\n",
            "\n",
            "Model Sonuçları\n",
            "\n",
            "              precision    recall  f1-score   support\n",
            "\n",
            "           0       0.71      0.67      0.69       377\n",
            "           1       0.69      0.73      0.71       377\n",
            "\n",
            "    accuracy                           0.70       754\n",
            "   macro avg       0.70      0.70      0.70       754\n",
            "weighted avg       0.70      0.70      0.70       754\n",
            "\n",
            "----------------------------------------\n",
            "Test Accuracy  : 69.655% \n",
            "Confusion Matrix-BernoulliNB-Test: \n",
            "[[66 32]\n",
            " [12 35]]\n",
            "\n",
            "Model Sonuçları\n",
            "\n",
            "              precision    recall  f1-score   support\n",
            "\n",
            "           0       0.85      0.67      0.75        98\n",
            "           1       0.52      0.74      0.61        47\n",
            "\n",
            "    accuracy                           0.70       145\n",
            "   macro avg       0.68      0.71      0.68       145\n",
            "weighted avg       0.74      0.70      0.71       145\n",
            "\n"
          ]
        }
      ],
      "source": [
        "from sklearn.naive_bayes import BernoulliNB\n",
        "\n",
        "bernoulliNB = BernoulliNB()\n",
        "bernoulliNB.fit(X_smote, y_smote)\n",
        "\n",
        "train_pred_bernoulliNB = bernoulliNB.predict(X_smote)\n",
        "print('Train Accuracy : %.3f%% ' % (accuracy_score(y_smote , train_pred_bernoulliNB)*100))\n",
        "\n",
        "print(\"Confusion Matrix-BernoulliNB-Train: \")\n",
        "print(confusion_matrix(y_smote, train_pred_bernoulliNB))\n",
        "\n",
        "print('\\nModel Sonuçları\\n')\n",
        "print(classification_report(y_smote, train_pred_bernoulliNB))\n",
        "\n",
        "print(\"-\"*40)\n",
        "\n",
        "\n",
        "test_pred_bernoulliNB = bernoulliNB.predict(X_test)\n",
        "print('Test Accuracy  : %.3f%% ' % (accuracy_score(y_test, test_pred_bernoulliNB)*100))\n",
        "\n",
        "print(\"Confusion Matrix-BernoulliNB-Test: \")\n",
        "print(confusion_matrix(y_test, test_pred_bernoulliNB))\n",
        "\n",
        "print('\\nModel Sonuçları\\n')\n",
        "print(classification_report(y_test, test_pred_bernoulliNB))\n",
        "\n",
        "\n",
        "\n"
      ]
    },
    {
      "cell_type": "code",
      "execution_count": null,
      "metadata": {
        "colab": {
          "base_uri": "https://localhost:8080/"
        },
        "id": "wKAJML--WrF0",
        "outputId": "c3e9058b-c9a8-4fa3-813a-508fd03dceaf"
      },
      "outputs": [
        {
          "output_type": "execute_result",
          "data": {
            "text/plain": [
              "0.709075119409466"
            ]
          },
          "metadata": {},
          "execution_count": 27
        },
        {
          "output_type": "display_data",
          "data": {
            "image/png": "[encoded data removed]",
            "text/plain": [
              "<Figure size 432x288 with 1 Axes>"
            ]
          },
          "metadata": {
            "needs_background": "light"
          }
        }
      ],
      "source": [
        "fpr , tpr , thresolds = metrics.roc_curve(y_smote, train_pred_bernoulliNB)\n",
        "roc_auc = metrics.auc(fpr , tpr)\n",
        "plt.plot(fpr , tpr ,'b' ,label = 'AUC =0.2f' %roc_auc)\n",
        "roc_auc\n",
        "\n",
        "fpr , tpr , thresolds = metrics.roc_curve(y_test, test_pred_bernoulliNB)\n",
        "roc_auc = metrics.auc(fpr , tpr)\n",
        "plt.plot(fpr , tpr ,'b' ,label = 'AUC =0.2f' %roc_auc)\n",
        "roc_auc\n"
      ]
    },
    {
      "cell_type": "markdown",
      "metadata": {
        "id": "HkIqfPRz-ety"
      },
      "source": [
        "\n",
        "\n",
        "---\n",
        "BernoulliNB Hiperparametre İle\n",
        "\n",
        "---\n",
        "\n",
        "\n"
      ]
    },
    {
      "cell_type": "code",
      "execution_count": null,
      "metadata": {
        "id": "1kTYd9d6ALvu",
        "colab": {
          "base_uri": "https://localhost:8080/"
        },
        "outputId": "3388c576-84a0-440e-e30e-d3b9ee859adb"
      },
      "outputs": [
        {
          "output_type": "stream",
          "name": "stdout",
          "text": [
            "              precision    recall  f1-score   support\n",
            "\n",
            "           0       0.71      0.67      0.69       377\n",
            "           1       0.69      0.73      0.71       377\n",
            "\n",
            "    accuracy                           0.70       754\n",
            "   macro avg       0.70      0.70      0.70       754\n",
            "weighted avg       0.70      0.70      0.70       754\n",
            "\n",
            "Training Skoru: 0.6989389920424404\n",
            "              precision    recall  f1-score   support\n",
            "\n",
            "           0       0.78      0.82      0.80        98\n",
            "           1       0.58      0.53      0.56        47\n",
            "\n",
            "    accuracy                           0.72       145\n",
            "   macro avg       0.68      0.67      0.68       145\n",
            "weighted avg       0.72      0.72      0.72       145\n",
            "\n",
            "Test Skoru: 0.7241379310344828\n"
          ]
        }
      ],
      "source": [
        "from sklearn.naive_bayes import BernoulliNB\n",
        "\n",
        "#Hiperparametreler ile Training skoru buluyoruz\n",
        "\n",
        "parameters_be = {\"alpha\":[0.1]}    #np.linspace(0.1,1,10) denendi en iyi alpha değer 0.1 bulundu\n",
        "\n",
        "clf_be = GridSearchCV(BernoulliNB(), parameters_be,cv=5)\n",
        "\n",
        "#Train Sınıflandırma raporunu yazdırmak\n",
        "clf_be.fit(X_smote,y_smote) \n",
        "clf_pre_train = clf_be.predict(X_smote)\n",
        "print(classification_report(y_smote , clf_pre_train))\n",
        "print(\"Training Skoru:\",accuracy_score(y_smote , clf_pre_train))\n",
        "\n",
        "#Test Sınıflandırma raporunu yazdırmak\n",
        "clf_be.fit(X_test,y_test) \n",
        "clf_pre_test = clf_be.predict(X_test)\n",
        "print(classification_report(y_test , clf_pre_test))\n",
        "print(\"Test Skoru:\",accuracy_score(y_test , clf_pre_test))\n",
        "\n"
      ]
    },
    {
      "cell_type": "code",
      "execution_count": null,
      "metadata": {
        "colab": {
          "base_uri": "https://localhost:8080/"
        },
        "id": "hJ-6POSz1ygz",
        "outputId": "e7928cd3-c1b9-4e52-8a8a-b79db763367f"
      },
      "outputs": [
        {
          "output_type": "stream",
          "name": "stdout",
          "text": [
            "<sklearn.metrics._plot.roc_curve.RocCurveDisplay object at 0x7f01f52ecc90> <sklearn.metrics._plot.roc_curve.RocCurveDisplay object at 0x7f01f53e5ad0>\n"
          ]
        },
        {
          "output_type": "stream",
          "name": "stderr",
          "text": [
            "/usr/local/lib/python3.7/dist-packages/sklearn/utils/deprecation.py:87: FutureWarning: Function plot_roc_curve is deprecated; Function :func:`plot_roc_curve` is deprecated in 1.0 and will be removed in 1.2. Use one of the class methods: :meth:`sklearn.metric.RocCurveDisplay.from_predictions` or :meth:`sklearn.metric.RocCurveDisplay.from_estimator`.\n",
            "  warnings.warn(msg, category=FutureWarning)\n",
            "/usr/local/lib/python3.7/dist-packages/sklearn/utils/deprecation.py:87: FutureWarning: Function plot_roc_curve is deprecated; Function :func:`plot_roc_curve` is deprecated in 1.0 and will be removed in 1.2. Use one of the class methods: :meth:`sklearn.metric.RocCurveDisplay.from_predictions` or :meth:`sklearn.metric.RocCurveDisplay.from_estimator`.\n",
            "  warnings.warn(msg, category=FutureWarning)\n"
          ]
        },
        {
          "output_type": "display_data",
          "data": {
            "image/png": "[encoded data removed]",
            "text/plain": [
              "<Figure size 432x288 with 1 Axes>"
            ]
          },
          "metadata": {
            "needs_background": "light"
          }
        },
        {
          "output_type": "display_data",
          "data": {
            "image/png": "[encoded data removed]",
            "text/plain": [
              "<Figure size 432x288 with 1 Axes>"
            ]
          },
          "metadata": {
            "needs_background": "light"
          }
        }
      ],
      "source": [
        "print(plot_roc_curve(clf_be, X_smote, y_smote),plot_roc_curve(clf_be, X_test, y_test)) "
      ]
    },
    {
      "cell_type": "markdown",
      "metadata": {
        "id": "_JEhwHcaXzqv"
      },
      "source": [
        "\n",
        "\n",
        "---\n",
        "\n",
        "\n",
        "\n",
        "#**LogisticRegression**\n",
        "\n",
        "\n",
        "\n",
        "---\n",
        "\n"
      ]
    },
    {
      "cell_type": "code",
      "execution_count": null,
      "metadata": {
        "id": "tFRcl8YCYAf4"
      },
      "outputs": [],
      "source": [
        "from sklearn.linear_model import LogisticRegression\n",
        "from sklearn.metrics import accuracy_score\n",
        "\n",
        "from sklearn.metrics import plot_confusion_matrix\n",
        "\n",
        "from sklearn.metrics import confusion_matrix\n",
        "\n",
        "from sklearn.metrics import classification_report\n",
        "from sklearn.model_selection import GridSearchCV\n"
      ]
    },
    {
      "cell_type": "code",
      "execution_count": null,
      "metadata": {
        "colab": {
          "base_uri": "https://localhost:8080/"
        },
        "id": "itxcpi2RUZ4j",
        "outputId": "735dcebc-474a-41bc-c710-67397c620b0a"
      },
      "outputs": [
        {
          "output_type": "stream",
          "name": "stdout",
          "text": [
            "Train Accuracy : 77.056% \n",
            "Confusion Matrix-LogisticRegression-Train: \n",
            "[[299  78]\n",
            " [ 95 282]]\n",
            "\n",
            "Model Sonuçları\n",
            "\n",
            "              precision    recall  f1-score   support\n",
            "\n",
            "           0       0.76      0.79      0.78       377\n",
            "           1       0.78      0.75      0.77       377\n",
            "\n",
            "    accuracy                           0.77       754\n",
            "   macro avg       0.77      0.77      0.77       754\n",
            "weighted avg       0.77      0.77      0.77       754\n",
            "\n",
            "----------------------------------------\n",
            "Test Accuracy  : 72.414% \n",
            "Confusion Matrix-LogisticRegression-Test: \n",
            "[[73 25]\n",
            " [15 32]]\n",
            "\n",
            "Model Sonuçları\n",
            "\n",
            "              precision    recall  f1-score   support\n",
            "\n",
            "           0       0.83      0.74      0.78        98\n",
            "           1       0.56      0.68      0.62        47\n",
            "\n",
            "    accuracy                           0.72       145\n",
            "   macro avg       0.70      0.71      0.70       145\n",
            "weighted avg       0.74      0.72      0.73       145\n",
            "\n"
          ]
        }
      ],
      "source": [
        "logisticRegression = LogisticRegression(random_state=123456)\n",
        "logisticRegression.fit(X_smote, y_smote)\n",
        "\n",
        "\n",
        "train_pred_logisticRegression = logisticRegression.predict(X_smote)\n",
        "print('Train Accuracy : %.3f%% ' % (accuracy_score(y_smote , train_pred_logisticRegression)*100))\n",
        "\n",
        "print(\"Confusion Matrix-LogisticRegression-Train: \")\n",
        "print(confusion_matrix(y_smote, train_pred_logisticRegression))\n",
        "\n",
        "print('\\nModel Sonuçları\\n')\n",
        "print(classification_report(y_smote, train_pred_logisticRegression))\n",
        "\n",
        "print(\"-\"*40)\n",
        "\n",
        "test_pred_logisticRegression = logisticRegression.predict(X_test)\n",
        "print('Test Accuracy  : %.3f%% ' % (accuracy_score(y_test, test_pred_logisticRegression)*100))\n",
        "\n",
        "print(\"Confusion Matrix-LogisticRegression-Test: \")\n",
        "print(confusion_matrix(y_test, test_pred_logisticRegression))\n",
        "\n",
        "print('\\nModel Sonuçları\\n')\n",
        "print(classification_report(y_test, test_pred_logisticRegression))"
      ]
    },
    {
      "cell_type": "code",
      "execution_count": null,
      "metadata": {
        "colab": {
          "base_uri": "https://localhost:8080/"
        },
        "id": "jDn2OgmcYJO7",
        "outputId": "9ccca785-2ba5-4645-f858-53a4dfa915de"
      },
      "outputs": [
        {
          "output_type": "execute_result",
          "data": {
            "text/plain": [
              "0.7128745115067304"
            ]
          },
          "metadata": {},
          "execution_count": 32
        },
        {
          "output_type": "display_data",
          "data": {
            "image/png": "[encoded data removed]",
            "text/plain": [
              "<Figure size 432x288 with 1 Axes>"
            ]
          },
          "metadata": {
            "needs_background": "light"
          }
        }
      ],
      "source": [
        "fpr , tpr , thresolds = metrics.roc_curve(y_smote, train_pred_logisticRegression)\n",
        "roc_auc = metrics.auc(fpr , tpr)\n",
        "plt.plot(fpr , tpr ,'b' ,label = 'AUC =0.2f' %roc_auc)\n",
        "roc_auc\n",
        "\n",
        "fpr , tpr , thresolds = metrics.roc_curve(y_test, test_pred_logisticRegression)\n",
        "roc_auc = metrics.auc(fpr , tpr)\n",
        "plt.plot(fpr , tpr ,'b' ,label = 'AUC =0.2f' %roc_auc)\n",
        "roc_auc"
      ]
    },
    {
      "cell_type": "markdown",
      "metadata": {
        "id": "GNzo67mqC5xt"
      },
      "source": [
        "\n",
        "\n",
        "---\n",
        "Logistic Regression Hiperparametreler İle\n",
        "\n",
        "---\n",
        "\n",
        "\n"
      ]
    },
    {
      "cell_type": "code",
      "execution_count": null,
      "metadata": {
        "id": "wSx_Fv_FC5xu",
        "colab": {
          "base_uri": "https://localhost:8080/"
        },
        "outputId": "8618b3de-0204-4bb7-8926-277b978fa132"
      },
      "outputs": [
        {
          "output_type": "stream",
          "name": "stdout",
          "text": [
            "              precision    recall  f1-score   support\n",
            "\n",
            "           0       0.76      0.79      0.78       377\n",
            "           1       0.78      0.75      0.77       377\n",
            "\n",
            "    accuracy                           0.77       754\n",
            "   macro avg       0.77      0.77      0.77       754\n",
            "weighted avg       0.77      0.77      0.77       754\n",
            "\n",
            "Training Skoru: 0.773209549071618\n",
            "              precision    recall  f1-score   support\n",
            "\n",
            "           0       0.80      0.88      0.83        98\n",
            "           1       0.68      0.53      0.60        47\n",
            "\n",
            "    accuracy                           0.77       145\n",
            "   macro avg       0.74      0.70      0.72       145\n",
            "weighted avg       0.76      0.77      0.76       145\n",
            "\n",
            "Test Skoru: 0.7655172413793103\n"
          ]
        }
      ],
      "source": [
        "param ={\"C\": [1e+20],  # C : np.logspace(20,40,60)\n",
        "        \"penalty\":['l2']}  # l2 ve none\n",
        "\n",
        "cv_ls = GridSearchCV(LogisticRegression(), param, scoring = 'accuracy', cv=5,n_jobs=-1).fit(X_train,y_train)\n",
        "\n",
        "\n",
        "#Train Sınıflandırma raporunu yazdırmak\n",
        "cv_ls.fit(X_smote,y_smote) \n",
        "cv_pre_train = cv_ls.predict(X_smote)\n",
        "print(classification_report(y_smote , cv_pre_train))\n",
        "print(\"Training Skoru:\",accuracy_score(y_smote , cv_pre_train))\n",
        "\n",
        "#Test Sınıflandırma raporunu yazdırmak \n",
        "cv_ls.fit(X_test,y_test)\n",
        "cv_pre_test = cv_ls.predict(X_test)\n",
        "print(classification_report(y_test , cv_pre_test))\n",
        "print(\"Test Skoru:\",accuracy_score(y_test , cv_pre_test))\n",
        "\n"
      ]
    },
    {
      "cell_type": "code",
      "execution_count": null,
      "metadata": {
        "colab": {
          "base_uri": "https://localhost:8080/"
        },
        "id": "pNqXCjpg1824",
        "outputId": "8a1aca24-5d7f-478a-ac16-8300535c3055"
      },
      "outputs": [
        {
          "output_type": "stream",
          "name": "stderr",
          "text": [
            "/usr/local/lib/python3.7/dist-packages/sklearn/utils/deprecation.py:87: FutureWarning: Function plot_roc_curve is deprecated; Function :func:`plot_roc_curve` is deprecated in 1.0 and will be removed in 1.2. Use one of the class methods: :meth:`sklearn.metric.RocCurveDisplay.from_predictions` or :meth:`sklearn.metric.RocCurveDisplay.from_estimator`.\n",
            "  warnings.warn(msg, category=FutureWarning)\n",
            "/usr/local/lib/python3.7/dist-packages/sklearn/utils/deprecation.py:87: FutureWarning: Function plot_roc_curve is deprecated; Function :func:`plot_roc_curve` is deprecated in 1.0 and will be removed in 1.2. Use one of the class methods: :meth:`sklearn.metric.RocCurveDisplay.from_predictions` or :meth:`sklearn.metric.RocCurveDisplay.from_estimator`.\n",
            "  warnings.warn(msg, category=FutureWarning)\n"
          ]
        },
        {
          "output_type": "stream",
          "name": "stdout",
          "text": [
            "<sklearn.metrics._plot.roc_curve.RocCurveDisplay object at 0x7f01ff107110> <sklearn.metrics._plot.roc_curve.RocCurveDisplay object at 0x7f01fec449d0>\n"
          ]
        },
        {
          "output_type": "display_data",
          "data": {
            "image/png": "[encoded data removed]",
            "text/plain": [
              "<Figure size 432x288 with 1 Axes>"
            ]
          },
          "metadata": {
            "needs_background": "light"
          }
        },
        {
          "output_type": "display_data",
          "data": {
            "image/png": "[encoded data removed]",
            "text/plain": [
              "<Figure size 432x288 with 1 Axes>"
            ]
          },
          "metadata": {
            "needs_background": "light"
          }
        }
      ],
      "source": [
        "print(plot_roc_curve(cv_ls, X_smote, y_smote),plot_roc_curve(cv_ls, X_test, y_test))"
      ]
    },
    {
      "cell_type": "markdown",
      "metadata": {
        "id": "43GT6AmgYObn"
      },
      "source": [
        "\n",
        "\n",
        "---\n",
        "\n",
        "\n",
        "\n",
        "#**DECISION TREE**\n",
        "\n",
        "\n",
        "\n",
        "---\n",
        "\n"
      ]
    },
    {
      "cell_type": "code",
      "execution_count": null,
      "metadata": {
        "id": "FhBLCiThrNYm"
      },
      "outputs": [],
      "source": [
        "from sklearn.tree import DecisionTreeClassifier\n",
        "from sklearn.metrics import accuracy_score\n",
        "\n",
        "from sklearn.metrics import plot_confusion_matrix\n",
        "\n",
        "from sklearn.metrics import confusion_matrix\n",
        "\n",
        "from sklearn.metrics import classification_report\n",
        "from sklearn.model_selection import GridSearchCV\n"
      ]
    },
    {
      "cell_type": "code",
      "execution_count": null,
      "metadata": {
        "colab": {
          "base_uri": "https://localhost:8080/"
        },
        "id": "yPiAq7iyUZ4k",
        "outputId": "1b1e74c4-af88-431b-bd53-49d43c24f7ec"
      },
      "outputs": [
        {
          "output_type": "stream",
          "name": "stdout",
          "text": [
            "Train Accuracy : 100.000% \n",
            "Confusion Matrix-DecisionTreeClassifier-Train: \n",
            "[[377   0]\n",
            " [  0 377]]\n",
            "\n",
            "Model Sonuçları\n",
            "\n",
            "              precision    recall  f1-score   support\n",
            "\n",
            "           0       1.00      1.00      1.00       377\n",
            "           1       1.00      1.00      1.00       377\n",
            "\n",
            "    accuracy                           1.00       754\n",
            "   macro avg       1.00      1.00      1.00       754\n",
            "weighted avg       1.00      1.00      1.00       754\n",
            "\n",
            "----------------------------------------\n",
            "Test Accuracy  : 77.931% \n",
            "Confusion Matrix-DecisionTreeClassifier-Test: \n",
            "[[77 21]\n",
            " [11 36]]\n",
            "\n",
            "Model Sonuçları\n",
            "\n",
            "              precision    recall  f1-score   support\n",
            "\n",
            "           0       0.88      0.79      0.83        98\n",
            "           1       0.63      0.77      0.69        47\n",
            "\n",
            "    accuracy                           0.78       145\n",
            "   macro avg       0.75      0.78      0.76       145\n",
            "weighted avg       0.80      0.78      0.78       145\n",
            "\n"
          ]
        }
      ],
      "source": [
        "decision_tree = DecisionTreeClassifier()\n",
        "decision_tree.fit(X_smote, y_smote)\n",
        "\n",
        "train_pred_decision_tree = decision_tree.predict(X_smote)\n",
        "print('Train Accuracy : %.3f%% ' % (accuracy_score(y_smote , train_pred_decision_tree)*100))\n",
        "\n",
        "print(\"Confusion Matrix-DecisionTreeClassifier-Train: \")\n",
        "print(confusion_matrix(y_smote, train_pred_decision_tree))\n",
        "\n",
        "print('\\nModel Sonuçları\\n')\n",
        "print(classification_report(y_smote, train_pred_decision_tree))\n",
        "\n",
        "print(\"-\"*40)\n",
        "\n",
        "test_pred_decision_tree = decision_tree.predict(X_test)\n",
        "print('Test Accuracy  : %.3f%% ' % (accuracy_score(y_test, test_pred_decision_tree)*100))\n",
        "\n",
        "print(\"Confusion Matrix-DecisionTreeClassifier-Test: \")\n",
        "print(confusion_matrix(y_test, test_pred_decision_tree))\n",
        "\n",
        "print('\\nModel Sonuçları\\n')\n",
        "print(classification_report(y_test, test_pred_decision_tree))"
      ]
    },
    {
      "cell_type": "code",
      "execution_count": null,
      "metadata": {
        "colab": {
          "base_uri": "https://localhost:8080/"
        },
        "id": "Ro_HBlzgF1Vl",
        "outputId": "92c62f14-5675-4b5b-9025-00363aec1077"
      },
      "outputs": [
        {
          "output_type": "execute_result",
          "data": {
            "text/plain": [
              "0.7758358662613982"
            ]
          },
          "metadata": {},
          "execution_count": 37
        },
        {
          "output_type": "display_data",
          "data": {
            "image/png": "[encoded data removed]",
            "text/plain": [
              "<Figure size 432x288 with 1 Axes>"
            ]
          },
          "metadata": {
            "needs_background": "light"
          }
        }
      ],
      "source": [
        "fpr , tpr , thresolds = metrics.roc_curve(y_smote, train_pred_decision_tree)\n",
        "roc_auc = metrics.auc(fpr , tpr)\n",
        "plt.plot(fpr , tpr ,'b' ,label = 'AUC =0.2f' %roc_auc)\n",
        "roc_auc\n",
        "\n",
        "fpr , tpr , thresolds = metrics.roc_curve(y_test, test_pred_decision_tree)\n",
        "roc_auc = metrics.auc(fpr , tpr)\n",
        "plt.plot(fpr , tpr ,'b' ,label = 'AUC =0.2f' %roc_auc)\n",
        "roc_auc"
      ]
    },
    {
      "cell_type": "markdown",
      "metadata": {
        "id": "CffqegJMF-v-"
      },
      "source": [
        "---\n",
        "Decision Tree Hiperparametreler İle\n",
        "\n",
        "---\n",
        "\n",
        "\n"
      ]
    },
    {
      "cell_type": "code",
      "execution_count": null,
      "metadata": {
        "colab": {
          "base_uri": "https://localhost:8080/"
        },
        "id": "LeWRVY5_F-v-",
        "outputId": "61ead8c6-1d2b-4b9d-c442-a9f1fa7bef66"
      },
      "outputs": [
        {
          "output_type": "stream",
          "name": "stdout",
          "text": [
            "              precision    recall  f1-score   support\n",
            "\n",
            "           0       0.78      0.62      0.69       377\n",
            "           1       0.69      0.82      0.75       377\n",
            "\n",
            "    accuracy                           0.72       754\n",
            "   macro avg       0.73      0.72      0.72       754\n",
            "weighted avg       0.73      0.72      0.72       754\n",
            "\n",
            "Training Skoru: 0.7241379310344828\n",
            "              precision    recall  f1-score   support\n",
            "\n",
            "           0       0.84      0.76      0.80        98\n",
            "           1       0.58      0.70      0.63        47\n",
            "\n",
            "    accuracy                           0.74       145\n",
            "   macro avg       0.71      0.73      0.72       145\n",
            "weighted avg       0.76      0.74      0.74       145\n",
            "\n",
            "Test Skoru: 0.7379310344827587\n"
          ]
        }
      ],
      "source": [
        "param_dict= {\"criterion\":['gini'],   #gini ve entropy denendi\n",
        "             \"max_depth\"          : [6], #1-8 aralığında denendi\n",
        "             \"min_samples_split\"  : [1.0], #1-10 aralığında denendi\n",
        "             \"min_samples_leaf\"   : [2], #1-5 aralığında denendi\n",
        "            }\n",
        "\n",
        "detr=DecisionTreeClassifier()\n",
        "detr_cv = GridSearchCV (detr,param_dict, verbose=0)\n",
        "detr_cv.fit(X_smote,y_smote) \n",
        "\n",
        "#Train Sınıflandırma raporunu yazdırmak\n",
        "\n",
        "\n",
        "detr_cv_pre_train = detr_cv.predict(X_smote)\n",
        "print(classification_report(y_smote , detr_cv_pre_train))\n",
        "print(\"Training Skoru:\",accuracy_score(y_smote , detr_cv_pre_train))\n",
        "\n",
        "#Test Sınıflandırma raporunu yazdırmak\n",
        "detr_cv.fit(X_test,y_test)\n",
        "detr_cv_pre_test = detr_cv.predict(X_test)\n",
        "print(classification_report(y_test , detr_cv_pre_test))\n",
        "print(\"Test Skoru:\",accuracy_score(y_test , detr_cv_pre_test))\n",
        "\n"
      ]
    },
    {
      "cell_type": "code",
      "execution_count": null,
      "metadata": {
        "colab": {
          "base_uri": "https://localhost:8080/"
        },
        "id": "7fCPYY1v2JSh",
        "outputId": "54863ba3-4f79-4891-e146-761c14e9ed86"
      },
      "outputs": [
        {
          "output_type": "stream",
          "name": "stderr",
          "text": [
            "/usr/local/lib/python3.7/dist-packages/sklearn/utils/deprecation.py:87: FutureWarning: Function plot_roc_curve is deprecated; Function :func:`plot_roc_curve` is deprecated in 1.0 and will be removed in 1.2. Use one of the class methods: :meth:`sklearn.metric.RocCurveDisplay.from_predictions` or :meth:`sklearn.metric.RocCurveDisplay.from_estimator`.\n",
            "  warnings.warn(msg, category=FutureWarning)\n",
            "/usr/local/lib/python3.7/dist-packages/sklearn/utils/deprecation.py:87: FutureWarning: Function plot_roc_curve is deprecated; Function :func:`plot_roc_curve` is deprecated in 1.0 and will be removed in 1.2. Use one of the class methods: :meth:`sklearn.metric.RocCurveDisplay.from_predictions` or :meth:`sklearn.metric.RocCurveDisplay.from_estimator`.\n",
            "  warnings.warn(msg, category=FutureWarning)\n"
          ]
        },
        {
          "output_type": "stream",
          "name": "stdout",
          "text": [
            "<sklearn.metrics._plot.roc_curve.RocCurveDisplay object at 0x7f01fec3fdd0> <sklearn.metrics._plot.roc_curve.RocCurveDisplay object at 0x7f01f5271bd0>\n"
          ]
        },
        {
          "output_type": "display_data",
          "data": {
            "image/png": "[encoded data removed]",
            "text/plain": [
              "<Figure size 432x288 with 1 Axes>"
            ]
          },
          "metadata": {
            "needs_background": "light"
          }
        },
        {
          "output_type": "display_data",
          "data": {
            "image/png": "[encoded data removed]",
            "text/plain": [
              "<Figure size 432x288 with 1 Axes>"
            ]
          },
          "metadata": {
            "needs_background": "light"
          }
        }
      ],
      "source": [
        "print(plot_roc_curve(detr_cv, X_smote, y_smote),plot_roc_curve(detr_cv, X_test, y_test))"
      ]
    },
    {
      "cell_type": "markdown",
      "metadata": {
        "id": "atXXed8wYYqB"
      },
      "source": [
        "\n",
        "\n",
        "---\n",
        "\n",
        "\n",
        "\n",
        "#**SVM (SUPPORT VECTOR MACHINE)**\n",
        "\n",
        "\n",
        "\n",
        "---\n",
        "\n"
      ]
    },
    {
      "cell_type": "code",
      "execution_count": null,
      "metadata": {
        "colab": {
          "base_uri": "https://localhost:8080/"
        },
        "id": "Jo-J8WnZENsw",
        "outputId": "4ad1f3b7-9b4c-4fa4-a87c-4fd58c0c778a"
      },
      "outputs": [
        {
          "output_type": "stream",
          "name": "stdout",
          "text": [
            "Train Accuracy : 84.483% \n",
            "Confusion Matrix-SVM TRAIN: \n",
            "[[305  72]\n",
            " [ 45 332]]\n",
            "\n",
            "Model Sonuçları\n",
            "\n",
            "              precision    recall  f1-score   support\n",
            "\n",
            "           0       0.87      0.81      0.84       377\n",
            "           1       0.82      0.88      0.85       377\n",
            "\n",
            "    accuracy                           0.84       754\n",
            "   macro avg       0.85      0.84      0.84       754\n",
            "weighted avg       0.85      0.84      0.84       754\n",
            "\n",
            "----------------------------------------\n",
            "Test Accuracy  : 70.345% \n",
            "Confusion Matrix-SVM TEST: \n",
            "[[68 30]\n",
            " [13 34]]\n",
            "\n",
            "Model Sonuçları\n",
            "\n",
            "              precision    recall  f1-score   support\n",
            "\n",
            "           0       0.84      0.69      0.76        98\n",
            "           1       0.53      0.72      0.61        47\n",
            "\n",
            "    accuracy                           0.70       145\n",
            "   macro avg       0.69      0.71      0.69       145\n",
            "weighted avg       0.74      0.70      0.71       145\n",
            "\n"
          ]
        }
      ],
      "source": [
        "from sklearn import svm\n",
        "from sklearn.svm import SVC\n",
        "\n",
        "sv = svm.SVC()  \n",
        "sv.fit(X_smote , y_smote)\n",
        "\n",
        "train_pred_svm =  sv.predict(X_smote)\n",
        "print('Train Accuracy : %.3f%% ' % (accuracy_score(y_smote , train_pred_svm)*100))\n",
        "\n",
        "print(\"Confusion Matrix-SVM TRAIN: \")\n",
        "print(confusion_matrix(y_smote, train_pred_svm))\n",
        "\n",
        "print('\\nModel Sonuçları\\n')\n",
        "print(classification_report(y_smote, train_pred_svm))\n",
        "\n",
        "print(\"-\"*40)\n",
        "\n",
        "test_pred_svm = sv.predict(X_test)\n",
        "print('Test Accuracy  : %.3f%% ' % (accuracy_score(y_test, test_pred_svm)*100))\n",
        "\n",
        "print(\"Confusion Matrix-SVM TEST: \")\n",
        "print(confusion_matrix(y_test, test_pred_svm))\n",
        "\n",
        "print('\\nModel Sonuçları\\n')\n",
        "print(classification_report(y_test, test_pred_svm))\n",
        "\n",
        "\n"
      ]
    },
    {
      "cell_type": "code",
      "execution_count": null,
      "metadata": {
        "colab": {
          "base_uri": "https://localhost:8080/",
          "height": 282
        },
        "id": "vrEP6FM9cc9B",
        "outputId": "b1da3955-fbf9-4ce7-9ff8-39e4543085cc"
      },
      "outputs": [
        {
          "output_type": "execute_result",
          "data": {
            "text/plain": [
              "0.7086409031697785"
            ]
          },
          "metadata": {},
          "execution_count": 41
        },
        {
          "output_type": "display_data",
          "data": {
            "image/png": "[encoded data removed]",
            "text/plain": [
              "<Figure size 432x288 with 1 Axes>"
            ]
          },
          "metadata": {
            "needs_background": "light"
          }
        }
      ],
      "source": [
        "(\"ROC_AUC TRAINING\")\n",
        "fpr , tpr , thresolds = metrics.roc_curve(y_smote, train_pred_svm)\n",
        "roc_auc = metrics.auc(fpr , tpr)\n",
        "plt.plot(fpr , tpr ,'b' ,label = 'AUC =0.2f' %roc_auc)\n",
        "roc_auc\n",
        "(\"ROC_AUC TESTING\")\n",
        "fpr , tpr , thresolds = metrics.roc_curve(y_test, test_pred_svm)\n",
        "roc_auc = metrics.auc(fpr , tpr)\n",
        "plt.plot(fpr , tpr ,'b' ,label = 'AUC =0.2f' %roc_auc)\n",
        "roc_auc"
      ]
    },
    {
      "cell_type": "markdown",
      "metadata": {
        "id": "HE7VLuRgcUxR"
      },
      "source": [
        "\n",
        "\n",
        "---\n",
        "SVM Hiperparametre İle\n",
        "\n",
        "\n",
        "---\n",
        "\n",
        "\n"
      ]
    },
    {
      "cell_type": "code",
      "execution_count": null,
      "metadata": {
        "colab": {
          "base_uri": "https://localhost:8080/"
        },
        "id": "CzCPFMtACyY-",
        "outputId": "ca864be5-1a8d-45e4-b761-a0e0b93f5c48"
      },
      "outputs": [
        {
          "output_type": "stream",
          "name": "stdout",
          "text": [
            "Fitting 5 folds for each of 1 candidates, totalling 5 fits\n",
            "              precision    recall  f1-score   support\n",
            "\n",
            "           0       0.99      0.99      0.99       377\n",
            "           1       0.99      0.99      0.99       377\n",
            "\n",
            "    accuracy                           0.99       754\n",
            "   macro avg       0.99      0.99      0.99       754\n",
            "weighted avg       0.99      0.99      0.99       754\n",
            "\n",
            "Training Skoru: 0.986737400530504\n",
            "{'C': 4, 'class_weight': 'balanced', 'gamma': 1, 'kernel': 'rbf'}\n"
          ]
        }
      ],
      "source": [
        "#Parametrenin Sınırlarını Belirtme\n",
        "\n",
        "param_grid = {'C': [4], # C=(0.1, 1, 10, 100, 1000) aralığında denendi\n",
        "              'gamma': [ 1], # C=(0.0001 , 0.01 , 0.1 , 1) aralığında denendi\n",
        "              'kernel': ['rbf'], # \"rbf\", \"linear\" ve \"sigmoid\" denendi.\n",
        "              'class_weight' : ['balanced']}  # \"none\" , \"balanced\" ve \"dict\" denendi.\n",
        "model=SVC()\n",
        "grid_svm = GridSearchCV(SVC(), param_grid, refit = True, verbose = 1)\n",
        "\n",
        "\n",
        "\n",
        "#Train Sınıflandırma raporunu yazdırmak\n",
        "grid_svm.fit(X_smote,y_smote) \n",
        "grid_svm_pre_train = grid_svm.predict(X_smote)\n",
        "print(classification_report(y_smote , grid_svm_pre_train))\n",
        "print(\"Training Skoru:\",accuracy_score(y_smote , grid_svm_pre_train))\n",
        "\n",
        "print(grid_svm.best_params_)"
      ]
    },
    {
      "cell_type": "code",
      "source": [
        "#Test Sınıflandırma raporunu yazdırmak\n",
        "grid_svm.fit(X_test,y_test)\n",
        "grid_svm_pre_test = grid_svm.predict(X_test)\n",
        "print(classification_report(y_test , grid_svm_pre_test))\n",
        "print(\"Test Skoru:\",accuracy_score(y_test , grid_svm_pre_test))"
      ],
      "metadata": {
        "colab": {
          "base_uri": "https://localhost:8080/"
        },
        "id": "AyVf6qipFGLr",
        "outputId": "503ca508-f1eb-4dde-fc6c-dbd7d3425c8a"
      },
      "execution_count": null,
      "outputs": [
        {
          "output_type": "stream",
          "name": "stdout",
          "text": [
            "Fitting 5 folds for each of 1 candidates, totalling 5 fits\n",
            "              precision    recall  f1-score   support\n",
            "\n",
            "           0       1.00      1.00      1.00        98\n",
            "           1       1.00      1.00      1.00        47\n",
            "\n",
            "    accuracy                           1.00       145\n",
            "   macro avg       1.00      1.00      1.00       145\n",
            "weighted avg       1.00      1.00      1.00       145\n",
            "\n",
            "Test Skoru: 1.0\n"
          ]
        }
      ]
    },
    {
      "cell_type": "code",
      "source": [
        "#Üst tarafta Training AUC - Alt tarafta Test AUC GRAFİKLERİ\n",
        "print(\"\\nAUC Grafik\\n\",plot_roc_curve(grid_svm, X_smote , y_smote) ,plot_roc_curve(grid_svm, X_test , y_test), )"
      ],
      "metadata": {
        "colab": {
          "base_uri": "https://localhost:8080/",
          "height": 683
        },
        "id": "-8VWqmqz1CH3",
        "outputId": "dd602cac-7c22-418e-cd2b-617e0f532b77"
      },
      "execution_count": null,
      "outputs": [
        {
          "output_type": "stream",
          "name": "stderr",
          "text": [
            "/usr/local/lib/python3.7/dist-packages/sklearn/utils/deprecation.py:87: FutureWarning: Function plot_roc_curve is deprecated; Function :func:`plot_roc_curve` is deprecated in 1.0 and will be removed in 1.2. Use one of the class methods: :meth:`sklearn.metric.RocCurveDisplay.from_predictions` or :meth:`sklearn.metric.RocCurveDisplay.from_estimator`.\n",
            "  warnings.warn(msg, category=FutureWarning)\n",
            "/usr/local/lib/python3.7/dist-packages/sklearn/utils/deprecation.py:87: FutureWarning: Function plot_roc_curve is deprecated; Function :func:`plot_roc_curve` is deprecated in 1.0 and will be removed in 1.2. Use one of the class methods: :meth:`sklearn.metric.RocCurveDisplay.from_predictions` or :meth:`sklearn.metric.RocCurveDisplay.from_estimator`.\n",
            "  warnings.warn(msg, category=FutureWarning)\n"
          ]
        },
        {
          "output_type": "stream",
          "name": "stdout",
          "text": [
            "\n",
            "AUC Grafik\n",
            " <sklearn.metrics._plot.roc_curve.RocCurveDisplay object at 0x7f01f511cd90> <sklearn.metrics._plot.roc_curve.RocCurveDisplay object at 0x7f01f50d8850>\n"
          ]
        },
        {
          "output_type": "display_data",
          "data": {
            "image/png": "[encoded data removed]",
            "text/plain": [
              "<Figure size 432x288 with 1 Axes>"
            ]
          },
          "metadata": {
            "needs_background": "light"
          }
        },
        {
          "output_type": "display_data",
          "data": {
            "image/png": "[encoded data removed]",
            "text/plain": [
              "<Figure size 432x288 with 1 Axes>"
            ]
          },
          "metadata": {
            "needs_background": "light"
          }
        }
      ]
    },
    {
      "cell_type": "markdown",
      "metadata": {
        "id": "pdnxo6eAZGLI"
      },
      "source": [
        "\n",
        "\n",
        "---\n",
        "\n",
        "\n",
        "\n",
        "#**KNN (K-NEAREST NEIGHBORS)**\n",
        "\n",
        "\n",
        "\n",
        "---\n",
        "\n"
      ]
    },
    {
      "cell_type": "code",
      "execution_count": null,
      "metadata": {
        "colab": {
          "base_uri": "https://localhost:8080/"
        },
        "id": "gvFFz73XUZ4m",
        "outputId": "0c4f2fe1-e5e7-424a-8ff1-8e81e67e3487"
      },
      "outputs": [
        {
          "output_type": "stream",
          "name": "stdout",
          "text": [
            "Train Accuracy : 83.952% \n",
            "Confusion Matrix-KNN TRAIN: \n",
            "[[291  86]\n",
            " [ 35 342]]\n",
            "\n",
            "Model Sonuçları\n",
            "\n",
            "              precision    recall  f1-score   support\n",
            "\n",
            "           0       0.89      0.77      0.83       377\n",
            "           1       0.80      0.91      0.85       377\n",
            "\n",
            "    accuracy                           0.84       754\n",
            "   macro avg       0.85      0.84      0.84       754\n",
            "weighted avg       0.85      0.84      0.84       754\n",
            "\n",
            "----------------------------------------\n",
            "Test Accuracy  : 69.655% \n",
            "Confusion Matrix-KNN TEST: \n",
            "[[70 28]\n",
            " [16 31]]\n",
            "\n",
            "Model Sonuçları\n",
            "\n",
            "              precision    recall  f1-score   support\n",
            "\n",
            "           0       0.81      0.71      0.76        98\n",
            "           1       0.53      0.66      0.58        47\n",
            "\n",
            "    accuracy                           0.70       145\n",
            "   macro avg       0.67      0.69      0.67       145\n",
            "weighted avg       0.72      0.70      0.70       145\n",
            "\n"
          ]
        }
      ],
      "source": [
        "from sklearn.neighbors import KNeighborsClassifier\n",
        "knn = KNeighborsClassifier()\n",
        "knn.fit(X_smote , y_smote)\n",
        "\n",
        "train_pred_knn =  knn.predict(X_smote)\n",
        "print('Train Accuracy : %.3f%% ' % (accuracy_score(y_smote , train_pred_knn)*100))\n",
        "\n",
        "print(\"Confusion Matrix-KNN TRAIN: \")\n",
        "print(confusion_matrix(y_smote, train_pred_knn))\n",
        "\n",
        "print('\\nModel Sonuçları\\n')\n",
        "print(classification_report(y_smote, train_pred_knn))\n",
        "\n",
        "print(\"-\"*40)\n",
        "\n",
        "test_pred_knn = knn.predict(X_test)\n",
        "print('Test Accuracy  : %.3f%% ' % (accuracy_score(y_test, test_pred_knn)*100))\n",
        "\n",
        "print(\"Confusion Matrix-KNN TEST: \")\n",
        "print(confusion_matrix(y_test, test_pred_knn))\n",
        "\n",
        "print('\\nModel Sonuçları\\n')\n",
        "print(classification_report(y_test, test_pred_knn))"
      ]
    },
    {
      "cell_type": "code",
      "execution_count": null,
      "metadata": {
        "colab": {
          "base_uri": "https://localhost:8080/",
          "height": 282
        },
        "id": "S6uhvoWadkrc",
        "outputId": "591645e1-2de0-4061-acd0-cd8264921d93"
      },
      "outputs": [
        {
          "output_type": "execute_result",
          "data": {
            "text/plain": [
              "0.6869300911854104"
            ]
          },
          "metadata": {},
          "execution_count": 46
        },
        {
          "output_type": "display_data",
          "data": {
            "image/png": "[encoded data removed]",
            "text/plain": [
              "<Figure size 432x288 with 1 Axes>"
            ]
          },
          "metadata": {
            "needs_background": "light"
          }
        }
      ],
      "source": [
        "fpr , tpr , thresolds = metrics.roc_curve(y_test,test_pred_knn)\n",
        "roc_auc = metrics.auc(fpr , tpr)\n",
        "plt.plot(fpr , tpr ,'b' ,label = 'AUC =0.2f' %roc_auc)\n",
        "roc_auc"
      ]
    },
    {
      "cell_type": "markdown",
      "metadata": {
        "id": "n7yMZXve7nOk"
      },
      "source": [
        "\n",
        "\n",
        "---\n",
        "\n",
        "\n",
        "\n",
        "*KNN modeli için hiperparametreleri bulma*\n",
        "\n",
        "---\n",
        "\n"
      ]
    },
    {
      "cell_type": "code",
      "execution_count": null,
      "metadata": {
        "colab": {
          "base_uri": "https://localhost:8080/"
        },
        "id": "kRnHjGsB27DX",
        "outputId": "150e1fa4-0e6d-417d-b27e-182dba7f278d"
      },
      "outputs": [
        {
          "output_type": "stream",
          "name": "stdout",
          "text": [
            "Fitting 5 folds for each of 1 candidates, totalling 5 fits\n",
            "              precision    recall  f1-score   support\n",
            "\n",
            "           0       0.84      0.74      0.79       377\n",
            "           1       0.77      0.86      0.81       377\n",
            "\n",
            "    accuracy                           0.80       754\n",
            "   macro avg       0.81      0.80      0.80       754\n",
            "weighted avg       0.81      0.80      0.80       754\n",
            "\n",
            "Training Skoru: 0.8010610079575596\n",
            "Fitting 5 folds for each of 1 candidates, totalling 5 fits\n",
            "              precision    recall  f1-score   support\n",
            "\n",
            "           0       0.76      0.98      0.85        98\n",
            "           1       0.89      0.34      0.49        47\n",
            "\n",
            "    accuracy                           0.77       145\n",
            "   macro avg       0.82      0.66      0.67       145\n",
            "weighted avg       0.80      0.77      0.74       145\n",
            "\n",
            "Test Skoru: 0.7724137931034483\n"
          ]
        }
      ],
      "source": [
        "param_grid = {\n",
        "              'n_neighbors': [19],  #3, 5, 11, 19 denendi\n",
        "              'weights': ['uniform'], #uniform ve distance denendi\n",
        "              'metric': ['manhattan'] # euclideans ve manhattan denendi\n",
        "              }\n",
        "model = KNeighborsClassifier()\n",
        "grid_knn = GridSearchCV(model, param_grid,scoring='roc_auc', refit = True,  verbose = 1)\n",
        "\n",
        "#Train Sınıflandırma raporunu yazdırmak\n",
        "grid_knn.fit(X_smote,y_smote) \n",
        "grid_search_pre_train = grid_knn.predict(X_smote)\n",
        "print(classification_report(y_smote , grid_search_pre_train))\n",
        "print(\"Training Skoru:\",accuracy_score(y_smote, grid_search_pre_train))\n",
        "\n",
        "#Test Sınıflandırma raporunu yazdırmak\n",
        "grid_knn.fit(X_test,y_test) \n",
        "grid_search_pre_test = grid_knn.predict(X_test)\n",
        "print(classification_report(y_test , grid_search_pre_test))\n",
        "print(\"Test Skoru:\",accuracy_score(y_test , grid_search_pre_test))\n",
        "\n",
        " "
      ]
    },
    {
      "cell_type": "code",
      "execution_count": null,
      "metadata": {
        "colab": {
          "base_uri": "https://localhost:8080/",
          "height": 648
        },
        "id": "X6uQUttw4gbA",
        "outputId": "a371babb-e051-4617-b872-11e9bb9483a6"
      },
      "outputs": [
        {
          "output_type": "stream",
          "name": "stderr",
          "text": [
            "/usr/local/lib/python3.7/dist-packages/sklearn/utils/deprecation.py:87: FutureWarning: Function plot_roc_curve is deprecated; Function :func:`plot_roc_curve` is deprecated in 1.0 and will be removed in 1.2. Use one of the class methods: :meth:`sklearn.metric.RocCurveDisplay.from_predictions` or :meth:`sklearn.metric.RocCurveDisplay.from_estimator`.\n",
            "  warnings.warn(msg, category=FutureWarning)\n",
            "/usr/local/lib/python3.7/dist-packages/sklearn/utils/deprecation.py:87: FutureWarning: Function plot_roc_curve is deprecated; Function :func:`plot_roc_curve` is deprecated in 1.0 and will be removed in 1.2. Use one of the class methods: :meth:`sklearn.metric.RocCurveDisplay.from_predictions` or :meth:`sklearn.metric.RocCurveDisplay.from_estimator`.\n",
            "  warnings.warn(msg, category=FutureWarning)\n"
          ]
        },
        {
          "output_type": "stream",
          "name": "stdout",
          "text": [
            "<sklearn.metrics._plot.roc_curve.RocCurveDisplay object at 0x7f01f53dec10> <sklearn.metrics._plot.roc_curve.RocCurveDisplay object at 0x7f01f4fb1e10>\n"
          ]
        },
        {
          "output_type": "display_data",
          "data": {
            "image/png": "[encoded data removed]",
            "text/plain": [
              "<Figure size 432x288 with 1 Axes>"
            ]
          },
          "metadata": {
            "needs_background": "light"
          }
        },
        {
          "output_type": "display_data",
          "data": {
            "image/png": "[encoded data removed]",
            "text/plain": [
              "<Figure size 432x288 with 1 Axes>"
            ]
          },
          "metadata": {
            "needs_background": "light"
          }
        }
      ],
      "source": [
        "print(plot_roc_curve(grid_knn, X_smote, y_smote),plot_roc_curve(grid_knn, X_test, y_test))"
      ]
    },
    {
      "cell_type": "markdown",
      "metadata": {
        "id": "yiNfYhJ9OOR-"
      },
      "source": [
        "\n",
        "\n",
        "---\n",
        "\n",
        "\n",
        "\n",
        "#**MLP (MULTILAYER PERCEPTRON)**\n",
        "\n",
        "\n",
        "\n",
        "---\n",
        "\n"
      ]
    },
    {
      "cell_type": "code",
      "execution_count": null,
      "metadata": {
        "id": "bGfMuCfEUZ4n"
      },
      "outputs": [],
      "source": [
        "from sklearn.neural_network import MLPClassifier"
      ]
    },
    {
      "cell_type": "code",
      "execution_count": null,
      "metadata": {
        "id": "gsjT9SMSUZ4n",
        "colab": {
          "base_uri": "https://localhost:8080/"
        },
        "outputId": "942184c7-ff15-49a0-bfba-e42f03af65b2"
      },
      "outputs": [
        {
          "output_type": "stream",
          "name": "stderr",
          "text": [
            "/usr/local/lib/python3.7/dist-packages/sklearn/neural_network/_multilayer_perceptron.py:696: ConvergenceWarning: Stochastic Optimizer: Maximum iterations (200) reached and the optimization hasn't converged yet.\n",
            "  ConvergenceWarning,\n"
          ]
        },
        {
          "output_type": "stream",
          "name": "stdout",
          "text": [
            "Train Accuracy : 85.146% \n",
            "Confusion Matrix-MLP TRAIN: \n",
            "[[310  67]\n",
            " [ 45 332]]\n",
            "\n",
            "Model Sonuçları\n",
            "\n",
            "              precision    recall  f1-score   support\n",
            "\n",
            "           0       0.87      0.82      0.85       377\n",
            "           1       0.83      0.88      0.86       377\n",
            "\n",
            "    accuracy                           0.85       754\n",
            "   macro avg       0.85      0.85      0.85       754\n",
            "weighted avg       0.85      0.85      0.85       754\n",
            "\n",
            "----------------------------------------\n",
            "Test Accuracy  : 86.207% \n",
            "Confusion Matrix-MLP TEST: \n",
            "[[93  5]\n",
            " [15 32]]\n",
            "\n",
            "Model Sonuçları\n",
            "\n",
            "              precision    recall  f1-score   support\n",
            "\n",
            "           0       0.86      0.95      0.90        98\n",
            "           1       0.86      0.68      0.76        47\n",
            "\n",
            "    accuracy                           0.86       145\n",
            "   macro avg       0.86      0.81      0.83       145\n",
            "weighted avg       0.86      0.86      0.86       145\n",
            "\n"
          ]
        },
        {
          "output_type": "stream",
          "name": "stderr",
          "text": [
            "/usr/local/lib/python3.7/dist-packages/sklearn/neural_network/_multilayer_perceptron.py:696: ConvergenceWarning: Stochastic Optimizer: Maximum iterations (200) reached and the optimization hasn't converged yet.\n",
            "  ConvergenceWarning,\n"
          ]
        }
      ],
      "source": [
        "mlp = MLPClassifier()\n",
        "mlp.fit(X_smote , y_smote)\n",
        "\n",
        "\n",
        "train_pred_mlp =  mlp.predict(X_smote)\n",
        "print('Train Accuracy : %.3f%% ' % (accuracy_score(y_smote , train_pred_mlp)*100))\n",
        "\n",
        "print(\"Confusion Matrix-MLP TRAIN: \")\n",
        "print(confusion_matrix(y_smote, train_pred_mlp))\n",
        "\n",
        "print('\\nModel Sonuçları\\n')\n",
        "print(classification_report(y_smote, train_pred_mlp))\n",
        "\n",
        "print(\"-\"*40)\n",
        "\n",
        "mlp.fit(X_test , y_test)\n",
        "\n",
        "test_pred_mlp = mlp.predict(X_test)\n",
        "print('Test Accuracy  : %.3f%% ' % (accuracy_score(y_test, test_pred_mlp)*100))\n",
        "\n",
        "print(\"Confusion Matrix-MLP TEST: \")\n",
        "print(confusion_matrix(y_test, test_pred_mlp))\n",
        "\n",
        "print('\\nModel Sonuçları\\n')\n",
        "print(classification_report(y_test, test_pred_mlp))"
      ]
    },
    {
      "cell_type": "code",
      "execution_count": null,
      "metadata": {
        "id": "YH9gb8yqeH1S",
        "colab": {
          "base_uri": "https://localhost:8080/",
          "height": 282
        },
        "outputId": "e9f4261e-cfb0-4087-8ae9-aea55e7ad3f7"
      },
      "outputs": [
        {
          "output_type": "execute_result",
          "data": {
            "text/plain": [
              "0.8149153278332611"
            ]
          },
          "metadata": {},
          "execution_count": 51
        },
        {
          "output_type": "display_data",
          "data": {
            "image/png": "[encoded data removed]",
            "text/plain": [
              "<Figure size 432x288 with 1 Axes>"
            ]
          },
          "metadata": {
            "needs_background": "light"
          }
        }
      ],
      "source": [
        "fpr , tpr , thresolds = metrics.roc_curve(y_smote,train_pred_mlp)\n",
        "roc_auc = metrics.auc(fpr , tpr)\n",
        "plt.plot(fpr , tpr ,'b' ,label = 'AUC =0.2f' %roc_auc)\n",
        "roc_auc\n",
        "\n",
        "fpr , tpr , thresolds = metrics.roc_curve(y_test,test_pred_mlp)\n",
        "roc_auc = metrics.auc(fpr , tpr)\n",
        "plt.plot(fpr , tpr ,'b' ,label = 'AUC =0.2f' %roc_auc)\n",
        "roc_auc"
      ]
    },
    {
      "cell_type": "markdown",
      "metadata": {
        "id": "NbgOqq4Pfs7a"
      },
      "source": [
        "\n",
        "\n",
        "---\n",
        "Hiperparametre ile MLP\n",
        "\n",
        "---\n",
        "\n",
        "\n",
        "\n"
      ]
    },
    {
      "cell_type": "code",
      "execution_count": null,
      "metadata": {
        "id": "cBt-tmA-veam",
        "colab": {
          "base_uri": "https://localhost:8080/"
        },
        "outputId": "530cf509-9658-42f1-e00d-40ccac2d5e30"
      },
      "outputs": [
        {
          "output_type": "stream",
          "name": "stderr",
          "text": [
            "/usr/local/lib/python3.7/dist-packages/sklearn/neural_network/_multilayer_perceptron.py:696: ConvergenceWarning: Stochastic Optimizer: Maximum iterations (100) reached and the optimization hasn't converged yet.\n",
            "  ConvergenceWarning,\n"
          ]
        },
        {
          "output_type": "stream",
          "name": "stdout",
          "text": [
            "              precision    recall  f1-score   support\n",
            "\n",
            "           0       0.81      0.77      0.79       377\n",
            "           1       0.78      0.82      0.80       377\n",
            "\n",
            "    accuracy                           0.79       754\n",
            "   macro avg       0.80      0.79      0.79       754\n",
            "weighted avg       0.80      0.79      0.79       754\n",
            "\n",
            "Training Skoru: 0.7944297082228117\n",
            "              precision    recall  f1-score   support\n",
            "\n",
            "           0       0.81      0.88      0.84        98\n",
            "           1       0.69      0.57      0.63        47\n",
            "\n",
            "    accuracy                           0.78       145\n",
            "   macro avg       0.75      0.73      0.74       145\n",
            "weighted avg       0.77      0.78      0.77       145\n",
            "\n",
            "Test Skoru: 0.7793103448275862\n"
          ]
        },
        {
          "output_type": "stream",
          "name": "stderr",
          "text": [
            "/usr/local/lib/python3.7/dist-packages/sklearn/neural_network/_multilayer_perceptron.py:696: ConvergenceWarning: Stochastic Optimizer: Maximum iterations (100) reached and the optimization hasn't converged yet.\n",
            "  ConvergenceWarning,\n"
          ]
        }
      ],
      "source": [
        "mlp_gs = MLPClassifier()\n",
        "parameter_space = {\n",
        "    'max_iter': [100],   #100-300 aralığı denendi \n",
        "    'hidden_layer_sizes': [(10,30,10)], # C = [(10,30,10),(20,)] aralığında denendi\n",
        "    'activation': ['tanh'], #\"tanh\" ve \"relu\" denendi\n",
        "    'solver': ['adam'],  #\"sgd\" ve \"adam\" denendi\n",
        "    'alpha': [0.25],    #-1-1  aralığı denendi\n",
        "    'learning_rate': ['adaptive'], #\"constant\" ve \"adaptive\" denendi\n",
        "}\n",
        "clf_mlp = GridSearchCV(mlp_gs, parameter_space, n_jobs=5, cv=5)\n",
        "\n",
        "#Train Sınıflandırma raporunu yazdırmak\n",
        "clf_mlp.fit(X_smote,y_smote) \n",
        "clf_pre_train = clf_mlp.predict(X_smote)\n",
        "print(classification_report(y_smote , clf_pre_train))\n",
        "print(\"Training Skoru:\",accuracy_score(y_smote , clf_pre_train))\n",
        "\n",
        "#Test Sınıflandırma raporunu yazdırmak\n",
        "clf_mlp.fit(X_test,y_test)  \n",
        "clf_pre_test = clf_mlp.predict(X_test)\n",
        "print(classification_report(y_test , clf_pre_test))\n",
        "print(\"Test Skoru:\",accuracy_score(y_test , clf_pre_test))"
      ]
    },
    {
      "cell_type": "markdown",
      "metadata": {
        "id": "c6WNz4ZHqi1i"
      },
      "source": [
        "Hiperparametre ile Grafik"
      ]
    },
    {
      "cell_type": "code",
      "execution_count": null,
      "metadata": {
        "id": "UMk5CXNqn0UL",
        "colab": {
          "base_uri": "https://localhost:8080/",
          "height": 648
        },
        "outputId": "d30ab4bd-b130-4ebd-b273-136ea080c6a5"
      },
      "outputs": [
        {
          "output_type": "stream",
          "name": "stderr",
          "text": [
            "/usr/local/lib/python3.7/dist-packages/sklearn/utils/deprecation.py:87: FutureWarning: Function plot_roc_curve is deprecated; Function :func:`plot_roc_curve` is deprecated in 1.0 and will be removed in 1.2. Use one of the class methods: :meth:`sklearn.metric.RocCurveDisplay.from_predictions` or :meth:`sklearn.metric.RocCurveDisplay.from_estimator`.\n",
            "  warnings.warn(msg, category=FutureWarning)\n",
            "/usr/local/lib/python3.7/dist-packages/sklearn/utils/deprecation.py:87: FutureWarning: Function plot_roc_curve is deprecated; Function :func:`plot_roc_curve` is deprecated in 1.0 and will be removed in 1.2. Use one of the class methods: :meth:`sklearn.metric.RocCurveDisplay.from_predictions` or :meth:`sklearn.metric.RocCurveDisplay.from_estimator`.\n",
            "  warnings.warn(msg, category=FutureWarning)\n"
          ]
        },
        {
          "output_type": "stream",
          "name": "stdout",
          "text": [
            "<sklearn.metrics._plot.roc_curve.RocCurveDisplay object at 0x7f01f5066590> <sklearn.metrics._plot.roc_curve.RocCurveDisplay object at 0x7f01f4f862d0>\n"
          ]
        },
        {
          "output_type": "display_data",
          "data": {
            "image/png": "[encoded data removed]",
            "text/plain": [
              "<Figure size 432x288 with 1 Axes>"
            ]
          },
          "metadata": {
            "needs_background": "light"
          }
        },
        {
          "output_type": "display_data",
          "data": {
            "image/png": "[encoded data removed]",
            "text/plain": [
              "<Figure size 432x288 with 1 Axes>"
            ]
          },
          "metadata": {
            "needs_background": "light"
          }
        }
      ],
      "source": [
        "print(plot_roc_curve(clf_mlp, X_smote, y_smote),plot_roc_curve(clf_mlp, X_test, y_test))"
      ]
    },
    {
      "cell_type": "markdown",
      "metadata": {
        "id": "NFUSke43Zb9I"
      },
      "source": [
        "\n",
        "\n",
        "---\n",
        "\n",
        "\n",
        "\n",
        "#**RANDOM FOREST**\n",
        "\n",
        "\n",
        "\n",
        "---\n",
        "\n"
      ]
    },
    {
      "cell_type": "code",
      "execution_count": null,
      "metadata": {
        "id": "PYw0i2dZUZ4o"
      },
      "outputs": [],
      "source": [
        "from sklearn.ensemble import RandomForestClassifier as randomForest\n",
        "from sklearn.model_selection import KFold, train_test_split, cross_val_predict, cross_val_score\n",
        "from sklearn import metrics\n"
      ]
    },
    {
      "cell_type": "code",
      "execution_count": null,
      "metadata": {
        "id": "e72dnLPmXt17",
        "colab": {
          "base_uri": "https://localhost:8080/"
        },
        "outputId": "64d5e3c4-19a8-4f26-e3cd-ebc5b8d2ad9a"
      },
      "outputs": [
        {
          "output_type": "stream",
          "name": "stdout",
          "text": [
            "Train Accuracy : 100.000% \n",
            "Confusion Matrix-randomForest-Train: \n",
            "[[377   0]\n",
            " [  0 377]]\n",
            "\n",
            "Model Sonuçları\n",
            "\n",
            "              precision    recall  f1-score   support\n",
            "\n",
            "           0       1.00      1.00      1.00       377\n",
            "           1       1.00      1.00      1.00       377\n",
            "\n",
            "    accuracy                           1.00       754\n",
            "   macro avg       1.00      1.00      1.00       754\n",
            "weighted avg       1.00      1.00      1.00       754\n",
            "\n",
            "----------------------------------------\n",
            "Test Accuracy  : 76.552% \n",
            "Confusion Matrix-randomForest-Test: \n",
            "[[79 19]\n",
            " [15 32]]\n",
            "\n",
            "Model Sonuçları\n",
            "\n",
            "              precision    recall  f1-score   support\n",
            "\n",
            "           0       0.84      0.81      0.82        98\n",
            "           1       0.63      0.68      0.65        47\n",
            "\n",
            "    accuracy                           0.77       145\n",
            "   macro avg       0.73      0.74      0.74       145\n",
            "weighted avg       0.77      0.77      0.77       145\n",
            "\n"
          ]
        }
      ],
      "source": [
        "randomForest = randomForest()\n",
        "randomForest.fit(X_smote,y_smote)\n",
        "\n",
        "train_pred_randomForest = randomForest.predict(X_smote)\n",
        "print('Train Accuracy : %.3f%% ' % (accuracy_score(y_smote , train_pred_randomForest)*100))\n",
        "print(\"Confusion Matrix-randomForest-Train: \")\n",
        "print(confusion_matrix(y_smote, train_pred_randomForest))\n",
        "\n",
        "print('\\nModel Sonuçları\\n')\n",
        "print(classification_report(y_smote, train_pred_randomForest))\n",
        "\n",
        "print(\"-\"*40)\n",
        "\n",
        "\n",
        "\n",
        "test_pred_randomForest = randomForest.predict(X_test)\n",
        "print('Test Accuracy  : %.3f%% ' % (accuracy_score(y_test, test_pred_randomForest)*100))\n",
        "\n",
        "print(\"Confusion Matrix-randomForest-Test: \")\n",
        "print(confusion_matrix(y_test, test_pred_randomForest))\n",
        "\n",
        "print('\\nModel Sonuçları\\n')\n",
        "print(classification_report(y_test, test_pred_randomForest))"
      ]
    },
    {
      "cell_type": "code",
      "execution_count": null,
      "metadata": {
        "id": "f6aU2043RR9y",
        "colab": {
          "base_uri": "https://localhost:8080/",
          "height": 282
        },
        "outputId": "b4091f4f-98b2-4035-d92c-38fbef78083f"
      },
      "outputs": [
        {
          "output_type": "execute_result",
          "data": {
            "text/plain": [
              "0.7434867564046896"
            ]
          },
          "metadata": {},
          "execution_count": 56
        },
        {
          "output_type": "display_data",
          "data": {
            "image/png": "[encoded data removed]",
            "text/plain": [
              "<Figure size 432x288 with 1 Axes>"
            ]
          },
          "metadata": {
            "needs_background": "light"
          }
        }
      ],
      "source": [
        "fpr , tpr , thresolds = metrics.roc_curve(y_smote, train_pred_randomForest)\n",
        "roc_auc = metrics.auc(fpr , tpr)\n",
        "plt.plot(fpr , tpr ,'b' ,label = 'AUC =0.2f' %roc_auc)\n",
        "roc_auc\n",
        "\n",
        "fpr , tpr , thresolds = metrics.roc_curve(y_test, test_pred_randomForest)\n",
        "roc_auc = metrics.auc(fpr , tpr)\n",
        "plt.plot(fpr , tpr ,'b' ,label = 'AUC =0.2f' %roc_auc)\n",
        "roc_auc"
      ]
    },
    {
      "cell_type": "markdown",
      "metadata": {
        "id": "QpCLfMtEb-pz"
      },
      "source": [
        "\n",
        "\n",
        "---\n",
        "Random Forest Hiperparametre İle\n",
        "\n",
        "\n",
        "---\n",
        "\n",
        "\n"
      ]
    },
    {
      "cell_type": "code",
      "execution_count": null,
      "metadata": {
        "id": "Topg13jecFKR",
        "colab": {
          "base_uri": "https://localhost:8080/"
        },
        "outputId": "13fe2fed-18a7-443d-b361-f196c6ce9630"
      },
      "outputs": [
        {
          "output_type": "stream",
          "name": "stdout",
          "text": [
            "              precision    recall  f1-score   support\n",
            "\n",
            "           0       1.00      1.00      1.00       377\n",
            "           1       1.00      1.00      1.00       377\n",
            "\n",
            "    accuracy                           1.00       754\n",
            "   macro avg       1.00      1.00      1.00       754\n",
            "weighted avg       1.00      1.00      1.00       754\n",
            "\n",
            "Training Skoru: 1.0\n",
            "              precision    recall  f1-score   support\n",
            "\n",
            "           0       1.00      1.00      1.00        98\n",
            "           1       1.00      1.00      1.00        47\n",
            "\n",
            "    accuracy                           1.00       145\n",
            "   macro avg       1.00      1.00      1.00       145\n",
            "weighted avg       1.00      1.00      1.00       145\n",
            "\n",
            "Test Skoru: 1.0\n"
          ]
        }
      ],
      "source": [
        "rf_params = {\n",
        "            'max_depth': [None], # Depth aralığı None-50 arası denendi. \n",
        "            'min_samples_leaf': [1],  # 1-10 aralığı denendi\n",
        "            'min_samples_split': [2], # 1-10 aralığı denendi  \n",
        "            'n_estimators': [2000] # 10-2000 aralığı denendi\n",
        "             }\n",
        "\n",
        "cv_rf = GridSearchCV(randomForest,rf_params,cv=5,verbose=False,n_jobs=-1)\n",
        "\n",
        "#Train Sınıflandırma raporunu yazdırmak\n",
        "cv_rf.fit(X_smote,y_smote) \n",
        "cv_rf_pre_train = cv_rf.predict(X_smote)\n",
        "print(classification_report(y_smote , cv_rf_pre_train))\n",
        "print(\"Training Skoru:\",accuracy_score(y_smote , cv_rf_pre_train))\n",
        "\n",
        "#Test Sınıflandırma raporunu yazdırmak\n",
        "cv_rf.fit(X_test,y_test) \n",
        "cv_rf_pre_test = cv_rf.predict(X_test)\n",
        "print(classification_report(y_test , cv_rf_pre_test))\n",
        "print(\"Test Skoru:\",accuracy_score(y_test , cv_rf_pre_test))"
      ]
    },
    {
      "cell_type": "code",
      "execution_count": null,
      "metadata": {
        "id": "MmfdVx9OndSd",
        "colab": {
          "base_uri": "https://localhost:8080/"
        },
        "outputId": "21070fa5-35cf-499b-ad49-b6da6a4185eb"
      },
      "outputs": [
        {
          "output_type": "stream",
          "name": "stderr",
          "text": [
            "/usr/local/lib/python3.7/dist-packages/sklearn/utils/deprecation.py:87: FutureWarning: Function plot_roc_curve is deprecated; Function :func:`plot_roc_curve` is deprecated in 1.0 and will be removed in 1.2. Use one of the class methods: :meth:`sklearn.metric.RocCurveDisplay.from_predictions` or :meth:`sklearn.metric.RocCurveDisplay.from_estimator`.\n",
            "  warnings.warn(msg, category=FutureWarning)\n",
            "/usr/local/lib/python3.7/dist-packages/sklearn/utils/deprecation.py:87: FutureWarning: Function plot_roc_curve is deprecated; Function :func:`plot_roc_curve` is deprecated in 1.0 and will be removed in 1.2. Use one of the class methods: :meth:`sklearn.metric.RocCurveDisplay.from_predictions` or :meth:`sklearn.metric.RocCurveDisplay.from_estimator`.\n",
            "  warnings.warn(msg, category=FutureWarning)\n"
          ]
        },
        {
          "output_type": "stream",
          "name": "stdout",
          "text": [
            "<sklearn.metrics._plot.roc_curve.RocCurveDisplay object at 0x7f01f630c710> <sklearn.metrics._plot.roc_curve.RocCurveDisplay object at 0x7f01f53391d0>\n"
          ]
        },
        {
          "output_type": "display_data",
          "data": {
            "image/png": "[encoded data removed]",
            "text/plain": [
              "<Figure size 432x288 with 1 Axes>"
            ]
          },
          "metadata": {
            "needs_background": "light"
          }
        },
        {
          "output_type": "display_data",
          "data": {
            "image/png": "[encoded data removed]",
            "text/plain": [
              "<Figure size 432x288 with 1 Axes>"
            ]
          },
          "metadata": {
            "needs_background": "light"
          }
        }
      ],
      "source": [
        "print(plot_roc_curve(cv_rf, X_smote , y_smote),plot_roc_curve(cv_rf, X_test, y_test))"
      ]
    },
    {
      "cell_type": "markdown",
      "metadata": {
        "id": "1LV0g18YZmZ5"
      },
      "source": [
        "\n",
        "\n",
        "---\n",
        "\n",
        "\n",
        "\n",
        "#**GRADIENT BOOSTING**\n",
        "\n",
        "\n",
        "\n",
        "---\n",
        "\n"
      ]
    },
    {
      "cell_type": "code",
      "execution_count": null,
      "metadata": {
        "id": "mNuHZk1aH0rw"
      },
      "outputs": [],
      "source": [
        "from sklearn.ensemble import GradientBoostingClassifier  as gradientBoosting"
      ]
    },
    {
      "cell_type": "code",
      "execution_count": null,
      "metadata": {
        "id": "SXrdrBOGX06v",
        "colab": {
          "base_uri": "https://localhost:8080/"
        },
        "outputId": "efb57084-edfe-4359-acb0-b68a6a849f3a"
      },
      "outputs": [
        {
          "output_type": "stream",
          "name": "stdout",
          "text": [
            "Train Accuracy : 92.838% \n",
            "Confusion Matrix-gradientBoosting-Train: \n",
            "[[345  32]\n",
            " [ 22 355]]\n",
            "\n",
            "Model Sonuçları\n",
            "\n",
            "              precision    recall  f1-score   support\n",
            "\n",
            "           0       0.94      0.92      0.93       377\n",
            "           1       0.92      0.94      0.93       377\n",
            "\n",
            "    accuracy                           0.93       754\n",
            "   macro avg       0.93      0.93      0.93       754\n",
            "weighted avg       0.93      0.93      0.93       754\n",
            "\n",
            "----------------------------------------\n",
            "Test Accuracy  : 72.414% \n",
            "Confusion Matrix-gradientBoosting-Test: \n",
            "[[73 25]\n",
            " [15 32]]\n",
            "\n",
            "Model Sonuçları\n",
            "\n",
            "              precision    recall  f1-score   support\n",
            "\n",
            "           0       0.83      0.74      0.78        98\n",
            "           1       0.56      0.68      0.62        47\n",
            "\n",
            "    accuracy                           0.72       145\n",
            "   macro avg       0.70      0.71      0.70       145\n",
            "weighted avg       0.74      0.72      0.73       145\n",
            "\n"
          ]
        }
      ],
      "source": [
        "gradientBoosting = gradientBoosting()\n",
        "gradientBoosting.fit(X_smote, y_smote)\n",
        "\n",
        "train_pred_gradientBoosting = gradientBoosting.predict(X_smote)\n",
        "print('Train Accuracy : %.3f%% ' % (accuracy_score(y_smote , train_pred_gradientBoosting)*100))\n",
        "\n",
        "print(\"Confusion Matrix-gradientBoosting-Train: \")\n",
        "print(confusion_matrix(y_smote, train_pred_gradientBoosting))\n",
        "\n",
        "print('\\nModel Sonuçları\\n')\n",
        "print(classification_report(y_smote, train_pred_gradientBoosting))\n",
        "\n",
        "print(\"-\"*40)\n",
        "\n",
        "test_pred_gradientBoosting = gradientBoosting.predict(X_test)\n",
        "print('Test Accuracy  : %.3f%% ' % (accuracy_score(y_test, test_pred_gradientBoosting)*100))\n",
        "\n",
        "print(\"Confusion Matrix-gradientBoosting-Test: \")\n",
        "print(confusion_matrix(y_test, test_pred_gradientBoosting))\n",
        "\n",
        "print('\\nModel Sonuçları\\n')\n",
        "print(classification_report(y_test, test_pred_gradientBoosting))"
      ]
    },
    {
      "cell_type": "code",
      "execution_count": null,
      "metadata": {
        "id": "q0jmqHBMbE1w"
      },
      "outputs": [],
      "source": [
        "from sklearn.ensemble import GradientBoostingClassifier  as gradientBoosting\n",
        "\n",
        "\n",
        "clf = gradientBoosting()\n",
        "clf.fit(X_smote,y_smote)\n",
        "y_score = clf.decision_function(X_smote)\n",
        "\n",
        "fpr, tpr, _ = roc_curve(y_smote, y_score, pos_label=clf.classes_[1])\n",
        "#roc_display = RocCurveDisplay(fpr=fpr, tpr=tpr).plot()"
      ]
    },
    {
      "cell_type": "code",
      "execution_count": null,
      "metadata": {
        "id": "RaXnCDOubHcy"
      },
      "outputs": [],
      "source": [
        "\n",
        "clf = gradientBoosting()\n",
        "clf.fit(X_smote,y_smote)\n",
        "y_score = clf.decision_function(X_test)\n",
        "\n",
        "fpr, tpr, _ = roc_curve(y_test, y_score, pos_label=clf.classes_[1])\n",
        "\n",
        "\n",
        "#roc_display = RocCurveDisplay(fpr=fpr, tpr=tpr).plot()"
      ]
    },
    {
      "cell_type": "markdown",
      "metadata": {
        "id": "qI3YS6eDHFzf"
      },
      "source": [
        "\n",
        "\n",
        "---\n",
        "Gradient Boosting Hiperparametre İle\n",
        "\n",
        "\n",
        "---\n",
        "\n",
        "\n"
      ]
    },
    {
      "cell_type": "code",
      "execution_count": null,
      "metadata": {
        "id": "ZYz1jO0uHFVn",
        "colab": {
          "base_uri": "https://localhost:8080/"
        },
        "outputId": "66b0b6c6-8f47-4489-b914-f4d879788419"
      },
      "outputs": [
        {
          "output_type": "stream",
          "name": "stdout",
          "text": [
            "Fitting 5 folds for each of 40 candidates, totalling 200 fits\n",
            "              precision    recall  f1-score   support\n",
            "\n",
            "           0       0.83      0.82      0.83       377\n",
            "           1       0.82      0.83      0.83       377\n",
            "\n",
            "    accuracy                           0.83       754\n",
            "   macro avg       0.83      0.83      0.83       754\n",
            "weighted avg       0.83      0.83      0.83       754\n",
            "\n",
            "Training Skoru: 0.8262599469496021\n",
            "Fitting 5 folds for each of 40 candidates, totalling 200 fits\n",
            "              precision    recall  f1-score   support\n",
            "\n",
            "           0       0.92      0.95      0.93        98\n",
            "           1       0.89      0.83      0.86        47\n",
            "\n",
            "    accuracy                           0.91       145\n",
            "   macro avg       0.90      0.89      0.90       145\n",
            "weighted avg       0.91      0.91      0.91       145\n",
            "\n",
            "Test Skoru: 0.9103448275862069\n"
          ]
        }
      ],
      "source": [
        "from sklearn.ensemble import GradientBoostingClassifier  as gradientBoosting\n",
        "\n",
        "\n",
        "param    = {\n",
        "              \"criterion\": [\"friedman_mse\"], # \"friedman_mse\"ve\"squared_error\" denendi\n",
        "              \"loss\":[\"exponential\",\"deviance\"], # \"deviance\"ve\"exponential\",\"squared_error\" denendi\n",
        "              \"max_features\":[\"log2\",\"sqrt\"], # \"log2\" ve \"sqrt\" denendi\n",
        "              'learning_rate': [1],   # 0.01-1 aralığı denendi\n",
        "              'max_depth': [3], # 1-8 aralığı denendi\n",
        "              'min_samples_leaf': [1,2,3,4,5,6,7,8,9,10], # [4,5,6] denendi\n",
        "              'subsample': [0.8], # [0.6,0.7,0.8,0.9,1] denendi\n",
        "              'n_estimators': [5], # 5-20 aralığı denendi\n",
        "              \n",
        "            }\n",
        "    \n",
        "model_gboosting = gradientBoosting()\n",
        "grid_gb  = GridSearchCV(model_gboosting , param , verbose=1)\n",
        "\n",
        "\n",
        "#Train Sınıflandırma raporunu yazdırmak\n",
        "grid_gb.fit(X_smote,y_smote) \n",
        "grid_gb_pre_train = grid_gb.predict(X_smote)\n",
        "print(classification_report(y_smote , grid_gb_pre_train))\n",
        "print(\"Training Skoru:\",accuracy_score(y_smote , grid_gb_pre_train))\n",
        "\n",
        "#Test Sınıflandırma raporunu yazdırmak\n",
        "grid_gb.fit(X_test,y_test) \n",
        "grid_gb_pre_test = grid_gb.predict(X_test)\n",
        "print(classification_report(y_test , grid_gb_pre_test))\n",
        "print(\"Test Skoru:\",accuracy_score(y_test , grid_gb_pre_test))"
      ]
    },
    {
      "cell_type": "code",
      "execution_count": null,
      "metadata": {
        "id": "ioh_Gepm3Dck",
        "colab": {
          "base_uri": "https://localhost:8080/",
          "height": 648
        },
        "outputId": "7992fb06-4db4-44ae-e521-fdcf8f65b955"
      },
      "outputs": [
        {
          "output_type": "stream",
          "name": "stderr",
          "text": [
            "/usr/local/lib/python3.7/dist-packages/sklearn/utils/deprecation.py:87: FutureWarning: Function plot_roc_curve is deprecated; Function :func:`plot_roc_curve` is deprecated in 1.0 and will be removed in 1.2. Use one of the class methods: :meth:`sklearn.metric.RocCurveDisplay.from_predictions` or :meth:`sklearn.metric.RocCurveDisplay.from_estimator`.\n",
            "  warnings.warn(msg, category=FutureWarning)\n",
            "/usr/local/lib/python3.7/dist-packages/sklearn/utils/deprecation.py:87: FutureWarning: Function plot_roc_curve is deprecated; Function :func:`plot_roc_curve` is deprecated in 1.0 and will be removed in 1.2. Use one of the class methods: :meth:`sklearn.metric.RocCurveDisplay.from_predictions` or :meth:`sklearn.metric.RocCurveDisplay.from_estimator`.\n",
            "  warnings.warn(msg, category=FutureWarning)\n"
          ]
        },
        {
          "output_type": "stream",
          "name": "stdout",
          "text": [
            "<sklearn.metrics._plot.roc_curve.RocCurveDisplay object at 0x7f01fec70450> <sklearn.metrics._plot.roc_curve.RocCurveDisplay object at 0x7f01f534a050>\n"
          ]
        },
        {
          "output_type": "display_data",
          "data": {
            "image/png": "[encoded data removed]",
            "text/plain": [
              "<Figure size 432x288 with 1 Axes>"
            ]
          },
          "metadata": {
            "needs_background": "light"
          }
        },
        {
          "output_type": "display_data",
          "data": {
            "image/png": "[encoded data removed]",
            "text/plain": [
              "<Figure size 432x288 with 1 Axes>"
            ]
          },
          "metadata": {
            "needs_background": "light"
          }
        }
      ],
      "source": [
        "print(plot_roc_curve(grid_gb, X_smote, y_smote),plot_roc_curve(grid_gb, X_test, y_test))"
      ]
    },
    {
      "cell_type": "markdown",
      "metadata": {
        "id": "GOD1GU4nZsZw"
      },
      "source": [
        "\n",
        "\n",
        "---\n",
        "\n",
        "\n",
        "\n",
        "#**XG BOOST**\n",
        "\n",
        "\n",
        "\n",
        "---\n",
        "\n"
      ]
    },
    {
      "cell_type": "code",
      "execution_count": null,
      "metadata": {
        "id": "R3bMPYxTX_Pv"
      },
      "outputs": [],
      "source": [
        "import xgboost as xgb\n",
        "from xgboost import XGBClassifier as xgBoost\n"
      ]
    },
    {
      "cell_type": "code",
      "execution_count": null,
      "metadata": {
        "id": "RS4EzXZUX99Y",
        "colab": {
          "base_uri": "https://localhost:8080/"
        },
        "outputId": "878f5251-d60d-4801-e7c5-971524ab044a"
      },
      "outputs": [
        {
          "output_type": "stream",
          "name": "stdout",
          "text": [
            "Train Accuracy : 89.523% \n",
            "Confusion Matrix-xgBoost-Train: \n",
            "[[325  52]\n",
            " [ 27 350]]\n",
            "\n",
            "Model Sonuçları\n",
            "\n",
            "              precision    recall  f1-score   support\n",
            "\n",
            "           0       0.92      0.86      0.89       377\n",
            "           1       0.87      0.93      0.90       377\n",
            "\n",
            "    accuracy                           0.90       754\n",
            "   macro avg       0.90      0.90      0.90       754\n",
            "weighted avg       0.90      0.90      0.90       754\n",
            "\n",
            "----------------------------------------\n",
            "Test Accuracy  : 99.310% \n",
            "Confusion Matrix-xgBoost-Test: \n",
            "[[98  0]\n",
            " [ 1 46]]\n",
            "\n",
            "Model Sonuçları\n",
            "\n",
            "              precision    recall  f1-score   support\n",
            "\n",
            "           0       0.99      1.00      0.99        98\n",
            "           1       1.00      0.98      0.99        47\n",
            "\n",
            "    accuracy                           0.99       145\n",
            "   macro avg       0.99      0.99      0.99       145\n",
            "weighted avg       0.99      0.99      0.99       145\n",
            "\n"
          ]
        }
      ],
      "source": [
        "xgBoost = xgBoost()\n",
        "\n",
        "xgBoost.fit(X_smote, y_smote)\n",
        "\n",
        "\n",
        "train_pred_xgBoost = xgBoost.predict(X_smote)\n",
        "print('Train Accuracy : %.3f%% ' % (accuracy_score(y_smote , train_pred_xgBoost)*100))\n",
        "\n",
        "print(\"Confusion Matrix-xgBoost-Train: \")\n",
        "print(confusion_matrix(y_smote, train_pred_xgBoost))\n",
        "\n",
        "print('\\nModel Sonuçları\\n')\n",
        "print(classification_report(y_smote, train_pred_xgBoost))\n",
        "\n",
        "print(\"-\"*40)\n",
        "\n",
        " \n",
        "xgBoost.fit(X_test,y_test)\n",
        "\n",
        "test_pred_xgBoost = xgBoost.predict(X_test)\n",
        "print('Test Accuracy  : %.3f%% ' % (accuracy_score(y_test, test_pred_xgBoost)*100))\n",
        "\n",
        "print(\"Confusion Matrix-xgBoost-Test: \")\n",
        "print(confusion_matrix(y_test, test_pred_xgBoost))\n",
        "\n",
        "print('\\nModel Sonuçları\\n')\n",
        "print(classification_report(y_test, test_pred_xgBoost))"
      ]
    },
    {
      "cell_type": "code",
      "execution_count": null,
      "metadata": {
        "id": "ZCu0G-nMbcN7",
        "colab": {
          "base_uri": "https://localhost:8080/",
          "height": 282
        },
        "outputId": "49c01e27-1702-4c47-a143-0bd5e9639e1d"
      },
      "outputs": [
        {
          "output_type": "execute_result",
          "data": {
            "text/plain": [
              "0.9893617021276595"
            ]
          },
          "metadata": {},
          "execution_count": 67
        },
        {
          "output_type": "display_data",
          "data": {
            "image/png": "[encoded data removed]",
            "text/plain": [
              "<Figure size 432x288 with 1 Axes>"
            ]
          },
          "metadata": {
            "needs_background": "light"
          }
        }
      ],
      "source": [
        "fpr , tpr , thresolds = metrics.roc_curve(y_smote, train_pred_xgBoost)\n",
        "roc_auc = metrics.auc(fpr , tpr)\n",
        "plt.plot(fpr , tpr ,'b' ,label = 'AUC =0.2f' %roc_auc)\n",
        "roc_auc\n",
        "fpr , tpr , thresolds = metrics.roc_curve(y_test, test_pred_xgBoost)\n",
        "roc_auc = metrics.auc(fpr , tpr)\n",
        "plt.plot(fpr , tpr ,'b' ,label = 'AUC =0.2f' %roc_auc)\n",
        "roc_auc"
      ]
    },
    {
      "cell_type": "markdown",
      "metadata": {
        "id": "W5H1iRk_q7px"
      },
      "source": [
        "\n",
        "\n",
        "---\n",
        "XGBoost Hiperparametreler İle\n",
        "\n",
        "\n",
        "---\n",
        "\n",
        "\n"
      ]
    },
    {
      "cell_type": "code",
      "execution_count": null,
      "metadata": {
        "id": "E95rR4dDrCcu",
        "colab": {
          "base_uri": "https://localhost:8080/"
        },
        "outputId": "fda95c07-6784-4817-f6c0-2b58836b49db"
      },
      "outputs": [
        {
          "output_type": "stream",
          "name": "stdout",
          "text": [
            "Fitting 5 folds for each of 1 candidates, totalling 5 fits\n",
            "              precision    recall  f1-score   support\n",
            "\n",
            "           0       0.96      0.87      0.91       377\n",
            "           1       0.88      0.96      0.92       377\n",
            "\n",
            "    accuracy                           0.92       754\n",
            "   macro avg       0.92      0.92      0.92       754\n",
            "weighted avg       0.92      0.92      0.92       754\n",
            "\n",
            "Training Skoru: 0.916445623342175\n",
            "Fitting 5 folds for each of 1 candidates, totalling 5 fits\n",
            "              precision    recall  f1-score   support\n",
            "\n",
            "           0       0.99      0.97      0.98        98\n",
            "           1       0.94      0.98      0.96        47\n",
            "\n",
            "    accuracy                           0.97       145\n",
            "   macro avg       0.96      0.97      0.97       145\n",
            "weighted avg       0.97      0.97      0.97       145\n",
            "\n",
            "Test Skoru: 0.9724137931034482\n"
          ]
        }
      ],
      "source": [
        "from xgboost import XGBClassifier\n",
        "model_xgb   = XGBClassifier(seed=None)\n",
        "parameters  = {\n",
        "                \"max_depth\": [6], #1-100 aralığı denendi\n",
        "                \"n_estimators\": [180], # 1-220 aralığı denendi\n",
        "                \"learning_rate\": [0.01]  # 0.01-0.05 aralığı denendi\n",
        "                }\n",
        "\n",
        "grid_xgb   = GridSearchCV (model_xgb , parameters, verbose=1) \n",
        "\n",
        "#Train Sınıflandırma raporunu yazdırmak\n",
        "grid_xgb.fit(X_smote,y_smote) \n",
        "grid_xgb_pre_train = grid_xgb.predict(X_smote)\n",
        "print(classification_report(y_smote , grid_xgb_pre_train))\n",
        "print(\"Training Skoru:\",accuracy_score(y_smote , grid_xgb_pre_train))\n",
        "\n",
        "#Test Sınıflandırma raporunu yazdırmak\n",
        "grid_xgb.fit(X_test,y_test) \n",
        "grid_xgb_pre_test = grid_xgb.predict(X_test)\n",
        "print(classification_report(y_test , grid_xgb_pre_test))\n",
        "print(\"Test Skoru:\",accuracy_score(y_test , grid_xgb_pre_test))"
      ]
    },
    {
      "cell_type": "code",
      "execution_count": null,
      "metadata": {
        "id": "FVBOLSiQ3HQU",
        "colab": {
          "base_uri": "https://localhost:8080/",
          "height": 648
        },
        "outputId": "b323ec93-76b5-42a5-b584-e23ea143be63"
      },
      "outputs": [
        {
          "output_type": "stream",
          "name": "stdout",
          "text": [
            "<sklearn.metrics._plot.roc_curve.RocCurveDisplay object at 0x7f01fec75ed0> <sklearn.metrics._plot.roc_curve.RocCurveDisplay object at 0x7f01f5618410>\n"
          ]
        },
        {
          "output_type": "stream",
          "name": "stderr",
          "text": [
            "/usr/local/lib/python3.7/dist-packages/sklearn/utils/deprecation.py:87: FutureWarning: Function plot_roc_curve is deprecated; Function :func:`plot_roc_curve` is deprecated in 1.0 and will be removed in 1.2. Use one of the class methods: :meth:`sklearn.metric.RocCurveDisplay.from_predictions` or :meth:`sklearn.metric.RocCurveDisplay.from_estimator`.\n",
            "  warnings.warn(msg, category=FutureWarning)\n",
            "/usr/local/lib/python3.7/dist-packages/sklearn/utils/deprecation.py:87: FutureWarning: Function plot_roc_curve is deprecated; Function :func:`plot_roc_curve` is deprecated in 1.0 and will be removed in 1.2. Use one of the class methods: :meth:`sklearn.metric.RocCurveDisplay.from_predictions` or :meth:`sklearn.metric.RocCurveDisplay.from_estimator`.\n",
            "  warnings.warn(msg, category=FutureWarning)\n"
          ]
        },
        {
          "output_type": "display_data",
          "data": {
            "image/png": "[encoded data removed]",
            "text/plain": [
              "<Figure size 432x288 with 1 Axes>"
            ]
          },
          "metadata": {
            "needs_background": "light"
          }
        },
        {
          "output_type": "display_data",
          "data": {
            "image/png": "[encoded data removed]",
            "text/plain": [
              "<Figure size 432x288 with 1 Axes>"
            ]
          },
          "metadata": {
            "needs_background": "light"
          }
        }
      ],
      "source": [
        "print(plot_roc_curve(grid_xgb, X_smote, y_smote),plot_roc_curve(grid_xgb,X_smote, y_smote))"
      ]
    }
  ],
  "metadata": {
    "colab": {
      "collapsed_sections": [
        "GLtttZSHSvcn",
        "0de7deMOToMF",
        "Cpefs_d2W9Y0",
        "uC8-e9xpXQ5w",
        "_JEhwHcaXzqv",
        "43GT6AmgYObn",
        "atXXed8wYYqB",
        "pdnxo6eAZGLI",
        "yiNfYhJ9OOR-",
        "NFUSke43Zb9I",
        "GOD1GU4nZsZw"
      ],
      "provenance": [],
      "toc_visible": true
    },
    "kernelspec": {
      "display_name": "Python 3",
      "language": "python",
      "name": "python3"
    },
    "language_info": {
      "codemirror_mode": {
        "name": "ipython",
        "version": 3
      },
      "file_extension": ".py",
      "mimetype": "text/x-python",
      "name": "python",
      "nbconvert_exporter": "python",
      "pygments_lexer": "ipython3",
      "version": "3.6.4"
    }
  },
  "nbformat": 4,
  "nbformat_minor": 0
}
